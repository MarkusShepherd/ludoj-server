{
 "cells": [
  {
   "cell_type": "code",
   "execution_count": 1,
   "metadata": {},
   "outputs": [
    {
     "data": {
      "application/javascript": [
       "\n",
       "            setTimeout(function() {\n",
       "                var nbb_cell_id = 1;\n",
       "                var nbb_unformatted_code = \"import pandas as pd\\n\\n# import numpy as np\\nimport umap\\nimport umap.plot\\nfrom sklearn.feature_extraction.text import CountVectorizer, TfidfVectorizer\\n\\n# Some plotting libraries\\nimport matplotlib.pyplot as plt\\nfrom bokeh.plotting import show, save, output_notebook, output_file\\n\\n%matplotlib inline\\n%load_ext nb_black\\n%load_ext lab_black\";\n",
       "                var nbb_formatted_code = \"import pandas as pd\\n\\n# import numpy as np\\nimport umap\\nimport umap.plot\\nfrom sklearn.feature_extraction.text import CountVectorizer, TfidfVectorizer\\n\\n# Some plotting libraries\\nimport matplotlib.pyplot as plt\\nfrom bokeh.plotting import show, save, output_notebook, output_file\\n\\n%matplotlib inline\\n%load_ext nb_black\\n%load_ext lab_black\";\n",
       "                var nbb_cells = Jupyter.notebook.get_cells();\n",
       "                for (var i = 0; i < nbb_cells.length; ++i) {\n",
       "                    if (nbb_cells[i].input_prompt_number == nbb_cell_id) {\n",
       "                        if (nbb_cells[i].get_text() == nbb_unformatted_code) {\n",
       "                             nbb_cells[i].set_text(nbb_formatted_code);\n",
       "                        }\n",
       "                        break;\n",
       "                    }\n",
       "                }\n",
       "            }, 500);\n",
       "            "
      ],
      "text/plain": [
       "<IPython.core.display.Javascript object>"
      ]
     },
     "metadata": {},
     "output_type": "display_data"
    }
   ],
   "source": [
    "import pandas as pd\n",
    "\n",
    "# import numpy as np\n",
    "import umap\n",
    "import umap.plot\n",
    "from sklearn.feature_extraction.text import CountVectorizer, TfidfVectorizer\n",
    "\n",
    "# Some plotting libraries\n",
    "import matplotlib.pyplot as plt\n",
    "from bokeh.plotting import show, save, output_notebook, output_file\n",
    "\n",
    "%matplotlib inline\n",
    "%load_ext nb_black\n",
    "%load_ext lab_black"
   ]
  },
  {
   "cell_type": "code",
   "execution_count": 2,
   "metadata": {},
   "outputs": [
    {
     "data": {
      "application/javascript": [
       "\n",
       "            setTimeout(function() {\n",
       "                var nbb_cell_id = 2;\n",
       "                var nbb_unformatted_code = \"def join(iterator, seperator):\\n    \\\"\\\"\\\"\\n    This function casts the elements of iterator to strings then merges those strings together with a string \\n    representation of seperator.  \\n    Had to write a custom join to handle very, very long lists of things. \\\"\\\".join falls appart above 3013.\\n    params\\n    iterator: an iterator.  This function makes use of the overload + operator for strings\\n    seperator: an item of the same class as is contained in our iterator to be added between every pair of instances.\\n    returns\\n    The sum of the iterator values with seperator iterposed between each.\\n    \\\"\\\"\\\"\\n    it = map(str, iterator)\\n    seperator = str(seperator)\\n    string = next(it, \\\"\\\")\\n    for s in it:\\n        string += seperator + s\\n    return string\";\n",
       "                var nbb_formatted_code = \"def join(iterator, seperator):\\n    \\\"\\\"\\\"\\n    This function casts the elements of iterator to strings then merges those strings together with a string \\n    representation of seperator.  \\n    Had to write a custom join to handle very, very long lists of things. \\\"\\\".join falls appart above 3013.\\n    params\\n    iterator: an iterator.  This function makes use of the overload + operator for strings\\n    seperator: an item of the same class as is contained in our iterator to be added between every pair of instances.\\n    returns\\n    The sum of the iterator values with seperator iterposed between each.\\n    \\\"\\\"\\\"\\n    it = map(str, iterator)\\n    seperator = str(seperator)\\n    string = next(it, \\\"\\\")\\n    for s in it:\\n        string += seperator + s\\n    return string\";\n",
       "                var nbb_cells = Jupyter.notebook.get_cells();\n",
       "                for (var i = 0; i < nbb_cells.length; ++i) {\n",
       "                    if (nbb_cells[i].input_prompt_number == nbb_cell_id) {\n",
       "                        if (nbb_cells[i].get_text() == nbb_unformatted_code) {\n",
       "                             nbb_cells[i].set_text(nbb_formatted_code);\n",
       "                        }\n",
       "                        break;\n",
       "                    }\n",
       "                }\n",
       "            }, 500);\n",
       "            "
      ],
      "text/plain": [
       "<IPython.core.display.Javascript object>"
      ]
     },
     "metadata": {},
     "output_type": "display_data"
    }
   ],
   "source": [
    "def join(iterator, seperator):\n",
    "    \"\"\"\n",
    "    This function casts the elements of iterator to strings then merges those strings together with a string \n",
    "    representation of seperator.  \n",
    "    Had to write a custom join to handle very, very long lists of things. \"\".join falls appart above 3013.\n",
    "    params\n",
    "    iterator: an iterator.  This function makes use of the overload + operator for strings\n",
    "    seperator: an item of the same class as is contained in our iterator to be added between every pair of instances.\n",
    "    returns\n",
    "    The sum of the iterator values with seperator iterposed between each.\n",
    "    \"\"\"\n",
    "    it = map(str, iterator)\n",
    "    seperator = str(seperator)\n",
    "    string = next(it, \"\")\n",
    "    for s in it:\n",
    "        string += seperator + s\n",
    "    return string"
   ]
  },
  {
   "cell_type": "code",
   "execution_count": 3,
   "metadata": {},
   "outputs": [
    {
     "data": {
      "text/plain": [
       "(1586614, 13)"
      ]
     },
     "execution_count": 3,
     "metadata": {},
     "output_type": "execute_result"
    },
    {
     "data": {
      "application/javascript": [
       "\n",
       "            setTimeout(function() {\n",
       "                var nbb_cell_id = 3;\n",
       "                var nbb_unformatted_code = \"reviews = pd.read_csv(\\\"~/Sync/beer_reviews.csv\\\")\\nreviews.shape\";\n",
       "                var nbb_formatted_code = \"reviews = pd.read_csv(\\\"~/Sync/beer_reviews.csv\\\")\\nreviews.shape\";\n",
       "                var nbb_cells = Jupyter.notebook.get_cells();\n",
       "                for (var i = 0; i < nbb_cells.length; ++i) {\n",
       "                    if (nbb_cells[i].input_prompt_number == nbb_cell_id) {\n",
       "                        if (nbb_cells[i].get_text() == nbb_unformatted_code) {\n",
       "                             nbb_cells[i].set_text(nbb_formatted_code);\n",
       "                        }\n",
       "                        break;\n",
       "                    }\n",
       "                }\n",
       "            }, 500);\n",
       "            "
      ],
      "text/plain": [
       "<IPython.core.display.Javascript object>"
      ]
     },
     "metadata": {},
     "output_type": "display_data"
    }
   ],
   "source": [
    "reviews = pd.read_csv(\"~/Sync/beer_reviews.csv\")\n",
    "reviews.shape"
   ]
  },
  {
   "cell_type": "code",
   "execution_count": 4,
   "metadata": {},
   "outputs": [
    {
     "data": {
      "text/html": [
       "<div>\n",
       "<style scoped>\n",
       "    .dataframe tbody tr th:only-of-type {\n",
       "        vertical-align: middle;\n",
       "    }\n",
       "\n",
       "    .dataframe tbody tr th {\n",
       "        vertical-align: top;\n",
       "    }\n",
       "\n",
       "    .dataframe thead th {\n",
       "        text-align: right;\n",
       "    }\n",
       "</style>\n",
       "<table border=\"1\" class=\"dataframe\">\n",
       "  <thead>\n",
       "    <tr style=\"text-align: right;\">\n",
       "      <th></th>\n",
       "      <th>0</th>\n",
       "      <th>1</th>\n",
       "      <th>2</th>\n",
       "      <th>3</th>\n",
       "      <th>4</th>\n",
       "    </tr>\n",
       "  </thead>\n",
       "  <tbody>\n",
       "    <tr>\n",
       "      <th>brewery_id</th>\n",
       "      <td>10325</td>\n",
       "      <td>10325</td>\n",
       "      <td>10325</td>\n",
       "      <td>10325</td>\n",
       "      <td>1075</td>\n",
       "    </tr>\n",
       "    <tr>\n",
       "      <th>brewery_name</th>\n",
       "      <td>Vecchio Birraio</td>\n",
       "      <td>Vecchio Birraio</td>\n",
       "      <td>Vecchio Birraio</td>\n",
       "      <td>Vecchio Birraio</td>\n",
       "      <td>Caldera Brewing Company</td>\n",
       "    </tr>\n",
       "    <tr>\n",
       "      <th>review_time</th>\n",
       "      <td>1234817823</td>\n",
       "      <td>1235915097</td>\n",
       "      <td>1235916604</td>\n",
       "      <td>1234725145</td>\n",
       "      <td>1293735206</td>\n",
       "    </tr>\n",
       "    <tr>\n",
       "      <th>review_overall</th>\n",
       "      <td>1.5</td>\n",
       "      <td>3</td>\n",
       "      <td>3</td>\n",
       "      <td>3</td>\n",
       "      <td>4</td>\n",
       "    </tr>\n",
       "    <tr>\n",
       "      <th>review_aroma</th>\n",
       "      <td>2</td>\n",
       "      <td>2.5</td>\n",
       "      <td>2.5</td>\n",
       "      <td>3</td>\n",
       "      <td>4.5</td>\n",
       "    </tr>\n",
       "    <tr>\n",
       "      <th>review_appearance</th>\n",
       "      <td>2.5</td>\n",
       "      <td>3</td>\n",
       "      <td>3</td>\n",
       "      <td>3.5</td>\n",
       "      <td>4</td>\n",
       "    </tr>\n",
       "    <tr>\n",
       "      <th>review_profilename</th>\n",
       "      <td>stcules</td>\n",
       "      <td>stcules</td>\n",
       "      <td>stcules</td>\n",
       "      <td>stcules</td>\n",
       "      <td>johnmichaelsen</td>\n",
       "    </tr>\n",
       "    <tr>\n",
       "      <th>beer_style</th>\n",
       "      <td>Hefeweizen</td>\n",
       "      <td>English Strong Ale</td>\n",
       "      <td>Foreign / Export Stout</td>\n",
       "      <td>German Pilsener</td>\n",
       "      <td>American Double / Imperial IPA</td>\n",
       "    </tr>\n",
       "    <tr>\n",
       "      <th>review_palate</th>\n",
       "      <td>1.5</td>\n",
       "      <td>3</td>\n",
       "      <td>3</td>\n",
       "      <td>2.5</td>\n",
       "      <td>4</td>\n",
       "    </tr>\n",
       "    <tr>\n",
       "      <th>review_taste</th>\n",
       "      <td>1.5</td>\n",
       "      <td>3</td>\n",
       "      <td>3</td>\n",
       "      <td>3</td>\n",
       "      <td>4.5</td>\n",
       "    </tr>\n",
       "    <tr>\n",
       "      <th>beer_name</th>\n",
       "      <td>Sausa Weizen</td>\n",
       "      <td>Red Moon</td>\n",
       "      <td>Black Horse Black Beer</td>\n",
       "      <td>Sausa Pils</td>\n",
       "      <td>Cauldron DIPA</td>\n",
       "    </tr>\n",
       "    <tr>\n",
       "      <th>beer_abv</th>\n",
       "      <td>5</td>\n",
       "      <td>6.2</td>\n",
       "      <td>6.5</td>\n",
       "      <td>5</td>\n",
       "      <td>7.7</td>\n",
       "    </tr>\n",
       "    <tr>\n",
       "      <th>beer_beerid</th>\n",
       "      <td>47986</td>\n",
       "      <td>48213</td>\n",
       "      <td>48215</td>\n",
       "      <td>47969</td>\n",
       "      <td>64883</td>\n",
       "    </tr>\n",
       "  </tbody>\n",
       "</table>\n",
       "</div>"
      ],
      "text/plain": [
       "                                  0                   1  \\\n",
       "brewery_id                    10325               10325   \n",
       "brewery_name        Vecchio Birraio     Vecchio Birraio   \n",
       "review_time              1234817823          1235915097   \n",
       "review_overall                  1.5                   3   \n",
       "review_aroma                      2                 2.5   \n",
       "review_appearance               2.5                   3   \n",
       "review_profilename          stcules             stcules   \n",
       "beer_style               Hefeweizen  English Strong Ale   \n",
       "review_palate                   1.5                   3   \n",
       "review_taste                    1.5                   3   \n",
       "beer_name              Sausa Weizen            Red Moon   \n",
       "beer_abv                          5                 6.2   \n",
       "beer_beerid                   47986               48213   \n",
       "\n",
       "                                         2                3  \\\n",
       "brewery_id                           10325            10325   \n",
       "brewery_name               Vecchio Birraio  Vecchio Birraio   \n",
       "review_time                     1235916604       1234725145   \n",
       "review_overall                           3                3   \n",
       "review_aroma                           2.5                3   \n",
       "review_appearance                        3              3.5   \n",
       "review_profilename                 stcules          stcules   \n",
       "beer_style          Foreign / Export Stout  German Pilsener   \n",
       "review_palate                            3              2.5   \n",
       "review_taste                             3                3   \n",
       "beer_name           Black Horse Black Beer       Sausa Pils   \n",
       "beer_abv                               6.5                5   \n",
       "beer_beerid                          48215            47969   \n",
       "\n",
       "                                                 4  \n",
       "brewery_id                                    1075  \n",
       "brewery_name               Caldera Brewing Company  \n",
       "review_time                             1293735206  \n",
       "review_overall                                   4  \n",
       "review_aroma                                   4.5  \n",
       "review_appearance                                4  \n",
       "review_profilename                  johnmichaelsen  \n",
       "beer_style          American Double / Imperial IPA  \n",
       "review_palate                                    4  \n",
       "review_taste                                   4.5  \n",
       "beer_name                            Cauldron DIPA  \n",
       "beer_abv                                       7.7  \n",
       "beer_beerid                                  64883  "
      ]
     },
     "execution_count": 4,
     "metadata": {},
     "output_type": "execute_result"
    },
    {
     "data": {
      "application/javascript": [
       "\n",
       "            setTimeout(function() {\n",
       "                var nbb_cell_id = 4;\n",
       "                var nbb_unformatted_code = \"reviews.head().T\";\n",
       "                var nbb_formatted_code = \"reviews.head().T\";\n",
       "                var nbb_cells = Jupyter.notebook.get_cells();\n",
       "                for (var i = 0; i < nbb_cells.length; ++i) {\n",
       "                    if (nbb_cells[i].input_prompt_number == nbb_cell_id) {\n",
       "                        if (nbb_cells[i].get_text() == nbb_unformatted_code) {\n",
       "                             nbb_cells[i].set_text(nbb_formatted_code);\n",
       "                        }\n",
       "                        break;\n",
       "                    }\n",
       "                }\n",
       "            }, 500);\n",
       "            "
      ],
      "text/plain": [
       "<IPython.core.display.Javascript object>"
      ]
     },
     "metadata": {},
     "output_type": "display_data"
    }
   ],
   "source": [
    "reviews.head().T"
   ]
  },
  {
   "cell_type": "code",
   "execution_count": 5,
   "metadata": {},
   "outputs": [
    {
     "data": {
      "text/plain": [
       "<matplotlib.axes._subplots.AxesSubplot at 0x12f663490>"
      ]
     },
     "execution_count": 5,
     "metadata": {},
     "output_type": "execute_result"
    },
    {
     "data": {
      "image/png": "[encoded data removed]",
      "text/plain": [
       "<Figure size 432x288 with 1 Axes>"
      ]
     },
     "metadata": {
      "needs_background": "light"
     },
     "output_type": "display_data"
    },
    {
     "data": {
      "application/javascript": [
       "\n",
       "            setTimeout(function() {\n",
       "                var nbb_cell_id = 5;\n",
       "                var nbb_unformatted_code = \"reviews.review_overall.value_counts().sort_index().plot.bar()\";\n",
       "                var nbb_formatted_code = \"reviews.review_overall.value_counts().sort_index().plot.bar()\";\n",
       "                var nbb_cells = Jupyter.notebook.get_cells();\n",
       "                for (var i = 0; i < nbb_cells.length; ++i) {\n",
       "                    if (nbb_cells[i].input_prompt_number == nbb_cell_id) {\n",
       "                        if (nbb_cells[i].get_text() == nbb_unformatted_code) {\n",
       "                             nbb_cells[i].set_text(nbb_formatted_code);\n",
       "                        }\n",
       "                        break;\n",
       "                    }\n",
       "                }\n",
       "            }, 500);\n",
       "            "
      ],
      "text/plain": [
       "<IPython.core.display.Javascript object>"
      ]
     },
     "metadata": {},
     "output_type": "display_data"
    }
   ],
   "source": [
    "reviews.review_overall.value_counts().sort_index().plot.bar()"
   ]
  },
  {
   "cell_type": "code",
   "execution_count": 6,
   "metadata": {},
   "outputs": [
    {
     "data": {
      "text/plain": [
       "(415705, 13)"
      ]
     },
     "execution_count": 6,
     "metadata": {},
     "output_type": "execute_result"
    },
    {
     "data": {
      "application/javascript": [
       "\n",
       "            setTimeout(function() {\n",
       "                var nbb_cell_id = 6;\n",
       "                var nbb_unformatted_code = \"reviews = reviews[reviews.review_overall >= 4.5]\\nreviews.shape\";\n",
       "                var nbb_formatted_code = \"reviews = reviews[reviews.review_overall >= 4.5]\\nreviews.shape\";\n",
       "                var nbb_cells = Jupyter.notebook.get_cells();\n",
       "                for (var i = 0; i < nbb_cells.length; ++i) {\n",
       "                    if (nbb_cells[i].input_prompt_number == nbb_cell_id) {\n",
       "                        if (nbb_cells[i].get_text() == nbb_unformatted_code) {\n",
       "                             nbb_cells[i].set_text(nbb_formatted_code);\n",
       "                        }\n",
       "                        break;\n",
       "                    }\n",
       "                }\n",
       "            }, 500);\n",
       "            "
      ],
      "text/plain": [
       "<IPython.core.display.Javascript object>"
      ]
     },
     "metadata": {},
     "output_type": "display_data"
    }
   ],
   "source": [
    "reviews = reviews[reviews.review_overall >= 4.5]\n",
    "reviews.shape"
   ]
  },
  {
   "cell_type": "code",
   "execution_count": 11,
   "metadata": {},
   "outputs": [
    {
     "data": {
      "text/plain": [
       "(29484, 12)"
      ]
     },
     "execution_count": 11,
     "metadata": {},
     "output_type": "execute_result"
    },
    {
     "data": {
      "application/javascript": [
       "\n",
       "            setTimeout(function() {\n",
       "                var nbb_cell_id = 11;\n",
       "                var nbb_unformatted_code = \"unique_join = lambda x: join(x.unique(), \\\" \\\")\\nbeer = reviews.groupby('beer_beerid').agg({\\n    'beer_name':'first',\\n    'brewery_name':'first',\\n    'beer_style':'first',\\n    'beer_abv':'mean',\\n    'review_aroma':'mean',\\n    'review_appearance':'mean',\\n    'review_overall':'mean',\\n    'review_palate':'mean',\\n    'review_taste':'mean',\\n    'review_profilename':[unique_join, len]\\n}).reset_index()\\n\\nbeer.columns = \\\"\\\"\\\"beer_beerid beer_name brewery_name beer_style beer_abv \\nreview_aroma review_appearance review_overall review_palate review_taste \\nreview_profilename_list review_profilename_len\\\"\\\"\\\".split()\\nbeer.shape\";\n",
       "                var nbb_formatted_code = \"unique_join = lambda x: join(x.unique(), \\\" \\\")\\nbeer = (\\n    reviews.groupby(\\\"beer_beerid\\\")\\n    .agg(\\n        {\\n            \\\"beer_name\\\": \\\"first\\\",\\n            \\\"brewery_name\\\": \\\"first\\\",\\n            \\\"beer_style\\\": \\\"first\\\",\\n            \\\"beer_abv\\\": \\\"mean\\\",\\n            \\\"review_aroma\\\": \\\"mean\\\",\\n            \\\"review_appearance\\\": \\\"mean\\\",\\n            \\\"review_overall\\\": \\\"mean\\\",\\n            \\\"review_palate\\\": \\\"mean\\\",\\n            \\\"review_taste\\\": \\\"mean\\\",\\n            \\\"review_profilename\\\": [unique_join, len],\\n        }\\n    )\\n    .reset_index()\\n)\\n\\nbeer.columns = \\\"\\\"\\\"beer_beerid beer_name brewery_name beer_style beer_abv \\nreview_aroma review_appearance review_overall review_palate review_taste \\nreview_profilename_list review_profilename_len\\\"\\\"\\\".split()\\nbeer.shape\";\n",
       "                var nbb_cells = Jupyter.notebook.get_cells();\n",
       "                for (var i = 0; i < nbb_cells.length; ++i) {\n",
       "                    if (nbb_cells[i].input_prompt_number == nbb_cell_id) {\n",
       "                        if (nbb_cells[i].get_text() == nbb_unformatted_code) {\n",
       "                             nbb_cells[i].set_text(nbb_formatted_code);\n",
       "                        }\n",
       "                        break;\n",
       "                    }\n",
       "                }\n",
       "            }, 500);\n",
       "            "
      ],
      "text/plain": [
       "<IPython.core.display.Javascript object>"
      ]
     },
     "metadata": {},
     "output_type": "display_data"
    }
   ],
   "source": [
    "unique_join = lambda x: join(x.unique(), \" \")\n",
    "beer = (\n",
    "    reviews.groupby(\"beer_beerid\")\n",
    "    .agg(\n",
    "        {\n",
    "            \"beer_name\": \"first\",\n",
    "            \"brewery_name\": \"first\",\n",
    "            \"beer_style\": \"first\",\n",
    "            \"beer_abv\": \"mean\",\n",
    "            \"review_aroma\": \"mean\",\n",
    "            \"review_appearance\": \"mean\",\n",
    "            \"review_overall\": \"mean\",\n",
    "            \"review_palate\": \"mean\",\n",
    "            \"review_taste\": \"mean\",\n",
    "            \"review_profilename\": [unique_join, len],\n",
    "        }\n",
    "    )\n",
    "    .reset_index()\n",
    ")\n",
    "\n",
    "beer.columns = \"\"\"beer_beerid beer_name brewery_name beer_style beer_abv \n",
    "review_aroma review_appearance review_overall review_palate review_taste \n",
    "review_profilename_list review_profilename_len\"\"\".split()\n",
    "beer.shape"
   ]
  },
  {
   "cell_type": "code",
   "execution_count": 12,
   "metadata": {},
   "outputs": [
    {
     "data": {
      "text/html": [
       "<div>\n",
       "<style scoped>\n",
       "    .dataframe tbody tr th:only-of-type {\n",
       "        vertical-align: middle;\n",
       "    }\n",
       "\n",
       "    .dataframe tbody tr th {\n",
       "        vertical-align: top;\n",
       "    }\n",
       "\n",
       "    .dataframe thead th {\n",
       "        text-align: right;\n",
       "    }\n",
       "</style>\n",
       "<table border=\"1\" class=\"dataframe\">\n",
       "  <thead>\n",
       "    <tr style=\"text-align: right;\">\n",
       "      <th></th>\n",
       "      <th>0</th>\n",
       "      <th>1</th>\n",
       "      <th>2</th>\n",
       "      <th>3</th>\n",
       "      <th>4</th>\n",
       "    </tr>\n",
       "  </thead>\n",
       "  <tbody>\n",
       "    <tr>\n",
       "      <th>beer_beerid</th>\n",
       "      <td>3</td>\n",
       "      <td>4</td>\n",
       "      <td>5</td>\n",
       "      <td>6</td>\n",
       "      <td>7</td>\n",
       "    </tr>\n",
       "    <tr>\n",
       "      <th>beer_name</th>\n",
       "      <td>Cactus Queen IPA</td>\n",
       "      <td>Wildcatter's Crude Stout</td>\n",
       "      <td>Amber</td>\n",
       "      <td>Turbodog</td>\n",
       "      <td>Purple Haze</td>\n",
       "    </tr>\n",
       "    <tr>\n",
       "      <th>brewery_name</th>\n",
       "      <td>Yellow Rose Brewing Company</td>\n",
       "      <td>Yellow Rose Brewing Company</td>\n",
       "      <td>Abita Brewing Co.</td>\n",
       "      <td>Abita Brewing Co.</td>\n",
       "      <td>Abita Brewing Co.</td>\n",
       "    </tr>\n",
       "    <tr>\n",
       "      <th>beer_style</th>\n",
       "      <td>American IPA</td>\n",
       "      <td>American Stout</td>\n",
       "      <td>Vienna Lager</td>\n",
       "      <td>English Brown Ale</td>\n",
       "      <td>Fruit / Vegetable Beer</td>\n",
       "    </tr>\n",
       "    <tr>\n",
       "      <th>beer_abv</th>\n",
       "      <td>NaN</td>\n",
       "      <td>NaN</td>\n",
       "      <td>4.5</td>\n",
       "      <td>5.6</td>\n",
       "      <td>4.2</td>\n",
       "    </tr>\n",
       "    <tr>\n",
       "      <th>review_aroma</th>\n",
       "      <td>4.5</td>\n",
       "      <td>4.25</td>\n",
       "      <td>3.50893</td>\n",
       "      <td>3.84</td>\n",
       "      <td>3.65094</td>\n",
       "    </tr>\n",
       "    <tr>\n",
       "      <th>review_appearance</th>\n",
       "      <td>4</td>\n",
       "      <td>4.5</td>\n",
       "      <td>3.79464</td>\n",
       "      <td>3.984</td>\n",
       "      <td>3.66038</td>\n",
       "    </tr>\n",
       "    <tr>\n",
       "      <th>review_overall</th>\n",
       "      <td>4.5</td>\n",
       "      <td>4.75</td>\n",
       "      <td>4.5625</td>\n",
       "      <td>4.6</td>\n",
       "      <td>4.66038</td>\n",
       "    </tr>\n",
       "    <tr>\n",
       "      <th>review_palate</th>\n",
       "      <td>4</td>\n",
       "      <td>4.5</td>\n",
       "      <td>3.80357</td>\n",
       "      <td>3.864</td>\n",
       "      <td>3.74528</td>\n",
       "    </tr>\n",
       "    <tr>\n",
       "      <th>review_taste</th>\n",
       "      <td>4.5</td>\n",
       "      <td>4.5</td>\n",
       "      <td>3.91964</td>\n",
       "      <td>4.1</td>\n",
       "      <td>3.88679</td>\n",
       "    </tr>\n",
       "    <tr>\n",
       "      <th>review_profilename_list</th>\n",
       "      <td>MAB</td>\n",
       "      <td>NeroFiddled AtrumAnimus</td>\n",
       "      <td>mynie HalfFull Spidey13 ender10 stockingcpl Ve...</td>\n",
       "      <td>kjyost AlexanderSelby Jeffro96 Bouleboubier mr...</td>\n",
       "      <td>tjd112 paulozanello epicness Spica66 bnes09 Bo...</td>\n",
       "    </tr>\n",
       "    <tr>\n",
       "      <th>review_profilename_len</th>\n",
       "      <td>1</td>\n",
       "      <td>2</td>\n",
       "      <td>56</td>\n",
       "      <td>125</td>\n",
       "      <td>53</td>\n",
       "    </tr>\n",
       "  </tbody>\n",
       "</table>\n",
       "</div>"
      ],
      "text/plain": [
       "                                                   0  \\\n",
       "beer_beerid                                        3   \n",
       "beer_name                           Cactus Queen IPA   \n",
       "brewery_name             Yellow Rose Brewing Company   \n",
       "beer_style                              American IPA   \n",
       "beer_abv                                         NaN   \n",
       "review_aroma                                     4.5   \n",
       "review_appearance                                  4   \n",
       "review_overall                                   4.5   \n",
       "review_palate                                      4   \n",
       "review_taste                                     4.5   \n",
       "review_profilename_list                          MAB   \n",
       "review_profilename_len                             1   \n",
       "\n",
       "                                                   1  \\\n",
       "beer_beerid                                        4   \n",
       "beer_name                   Wildcatter's Crude Stout   \n",
       "brewery_name             Yellow Rose Brewing Company   \n",
       "beer_style                            American Stout   \n",
       "beer_abv                                         NaN   \n",
       "review_aroma                                    4.25   \n",
       "review_appearance                                4.5   \n",
       "review_overall                                  4.75   \n",
       "review_palate                                    4.5   \n",
       "review_taste                                     4.5   \n",
       "review_profilename_list      NeroFiddled AtrumAnimus   \n",
       "review_profilename_len                             2   \n",
       "\n",
       "                                                                         2  \\\n",
       "beer_beerid                                                              5   \n",
       "beer_name                                                            Amber   \n",
       "brewery_name                                             Abita Brewing Co.   \n",
       "beer_style                                                    Vienna Lager   \n",
       "beer_abv                                                               4.5   \n",
       "review_aroma                                                       3.50893   \n",
       "review_appearance                                                  3.79464   \n",
       "review_overall                                                      4.5625   \n",
       "review_palate                                                      3.80357   \n",
       "review_taste                                                       3.91964   \n",
       "review_profilename_list  mynie HalfFull Spidey13 ender10 stockingcpl Ve...   \n",
       "review_profilename_len                                                  56   \n",
       "\n",
       "                                                                         3  \\\n",
       "beer_beerid                                                              6   \n",
       "beer_name                                                         Turbodog   \n",
       "brewery_name                                             Abita Brewing Co.   \n",
       "beer_style                                               English Brown Ale   \n",
       "beer_abv                                                               5.6   \n",
       "review_aroma                                                          3.84   \n",
       "review_appearance                                                    3.984   \n",
       "review_overall                                                         4.6   \n",
       "review_palate                                                        3.864   \n",
       "review_taste                                                           4.1   \n",
       "review_profilename_list  kjyost AlexanderSelby Jeffro96 Bouleboubier mr...   \n",
       "review_profilename_len                                                 125   \n",
       "\n",
       "                                                                         4  \n",
       "beer_beerid                                                              7  \n",
       "beer_name                                                      Purple Haze  \n",
       "brewery_name                                             Abita Brewing Co.  \n",
       "beer_style                                          Fruit / Vegetable Beer  \n",
       "beer_abv                                                               4.2  \n",
       "review_aroma                                                       3.65094  \n",
       "review_appearance                                                  3.66038  \n",
       "review_overall                                                     4.66038  \n",
       "review_palate                                                      3.74528  \n",
       "review_taste                                                       3.88679  \n",
       "review_profilename_list  tjd112 paulozanello epicness Spica66 bnes09 Bo...  \n",
       "review_profilename_len                                                  53  "
      ]
     },
     "execution_count": 12,
     "metadata": {},
     "output_type": "execute_result"
    },
    {
     "data": {
      "application/javascript": [
       "\n",
       "            setTimeout(function() {\n",
       "                var nbb_cell_id = 12;\n",
       "                var nbb_unformatted_code = \"beer.head().T\";\n",
       "                var nbb_formatted_code = \"beer.head().T\";\n",
       "                var nbb_cells = Jupyter.notebook.get_cells();\n",
       "                for (var i = 0; i < nbb_cells.length; ++i) {\n",
       "                    if (nbb_cells[i].input_prompt_number == nbb_cell_id) {\n",
       "                        if (nbb_cells[i].get_text() == nbb_unformatted_code) {\n",
       "                             nbb_cells[i].set_text(nbb_formatted_code);\n",
       "                        }\n",
       "                        break;\n",
       "                    }\n",
       "                }\n",
       "            }, 500);\n",
       "            "
      ],
      "text/plain": [
       "<IPython.core.display.Javascript object>"
      ]
     },
     "metadata": {},
     "output_type": "display_data"
    }
   ],
   "source": [
    "beer.head().T"
   ]
  },
  {
   "cell_type": "code",
   "execution_count": 13,
   "metadata": {},
   "outputs": [
    {
     "data": {
      "text/plain": [
       "(1540, 12)"
      ]
     },
     "execution_count": 13,
     "metadata": {},
     "output_type": "execute_result"
    },
    {
     "data": {
      "application/javascript": [
       "\n",
       "            setTimeout(function() {\n",
       "                var nbb_cell_id = 13;\n",
       "                var nbb_unformatted_code = \"popular_beer = beer[beer.review_profilename_len > 50].reset_index(drop=True)\\npopular_beer.shape\";\n",
       "                var nbb_formatted_code = \"popular_beer = beer[beer.review_profilename_len > 50].reset_index(drop=True)\\npopular_beer.shape\";\n",
       "                var nbb_cells = Jupyter.notebook.get_cells();\n",
       "                for (var i = 0; i < nbb_cells.length; ++i) {\n",
       "                    if (nbb_cells[i].input_prompt_number == nbb_cell_id) {\n",
       "                        if (nbb_cells[i].get_text() == nbb_unformatted_code) {\n",
       "                             nbb_cells[i].set_text(nbb_formatted_code);\n",
       "                        }\n",
       "                        break;\n",
       "                    }\n",
       "                }\n",
       "            }, 500);\n",
       "            "
      ],
      "text/plain": [
       "<IPython.core.display.Javascript object>"
      ]
     },
     "metadata": {},
     "output_type": "display_data"
    }
   ],
   "source": [
    "popular_beer = beer[beer.review_profilename_len > 50].reset_index(drop=True)\n",
    "popular_beer.shape"
   ]
  },
  {
   "cell_type": "code",
   "execution_count": 14,
   "metadata": {},
   "outputs": [
    {
     "data": {
      "text/plain": [
       "(1540, 5030)"
      ]
     },
     "execution_count": 14,
     "metadata": {},
     "output_type": "execute_result"
    },
    {
     "data": {
      "application/javascript": [
       "\n",
       "            setTimeout(function() {\n",
       "                var nbb_cell_id = 14;\n",
       "                var nbb_unformatted_code = \"beer_by_authors_vectorizer = CountVectorizer(binary=True, min_df=10)\\nbeer_by_authors = beer_by_authors_vectorizer.fit_transform(\\n    popular_beer.review_profilename_list\\n)\\nbeer_by_authors.shape\";\n",
       "                var nbb_formatted_code = \"beer_by_authors_vectorizer = CountVectorizer(binary=True, min_df=10)\\nbeer_by_authors = beer_by_authors_vectorizer.fit_transform(\\n    popular_beer.review_profilename_list\\n)\\nbeer_by_authors.shape\";\n",
       "                var nbb_cells = Jupyter.notebook.get_cells();\n",
       "                for (var i = 0; i < nbb_cells.length; ++i) {\n",
       "                    if (nbb_cells[i].input_prompt_number == nbb_cell_id) {\n",
       "                        if (nbb_cells[i].get_text() == nbb_unformatted_code) {\n",
       "                             nbb_cells[i].set_text(nbb_formatted_code);\n",
       "                        }\n",
       "                        break;\n",
       "                    }\n",
       "                }\n",
       "            }, 500);\n",
       "            "
      ],
      "text/plain": [
       "<IPython.core.display.Javascript object>"
      ]
     },
     "metadata": {},
     "output_type": "display_data"
    }
   ],
   "source": [
    "beer_by_authors_vectorizer = CountVectorizer(binary=True, min_df=10)\n",
    "beer_by_authors = beer_by_authors_vectorizer.fit_transform(\n",
    "    popular_beer.review_profilename_list\n",
    ")\n",
    "beer_by_authors.shape"
   ]
  },
  {
   "cell_type": "code",
   "execution_count": 15,
   "metadata": {},
   "outputs": [
    {
     "name": "stderr",
     "output_type": "stream",
     "text": [
      "/Users/markus/.local/share/virtualenvs/recommend-games-server-4vo11Vep/lib/python3.7/site-packages/umap/umap_.py:1529: UserWarning: gradient function is not yet implemented for jaccard distance metric; inverse_transform will be unavailable\n",
      "  \"inverse_transform will be unavailable\".format(self.metric)\n"
     ]
    },
    {
     "data": {
      "application/javascript": [
       "\n",
       "            setTimeout(function() {\n",
       "                var nbb_cell_id = 15;\n",
       "                var nbb_unformatted_code = \"beer_by_authors_model = umap.UMAP(n_neighbors=15, n_components=2, metric=\\\"jaccard\\\", unique=True).fit(beer_by_authors.todense())\";\n",
       "                var nbb_formatted_code = \"beer_by_authors_model = umap.UMAP(\\n    n_neighbors=15, n_components=2, metric=\\\"jaccard\\\", unique=True\\n).fit(beer_by_authors.todense())\";\n",
       "                var nbb_cells = Jupyter.notebook.get_cells();\n",
       "                for (var i = 0; i < nbb_cells.length; ++i) {\n",
       "                    if (nbb_cells[i].input_prompt_number == nbb_cell_id) {\n",
       "                        if (nbb_cells[i].get_text() == nbb_unformatted_code) {\n",
       "                             nbb_cells[i].set_text(nbb_formatted_code);\n",
       "                        }\n",
       "                        break;\n",
       "                    }\n",
       "                }\n",
       "            }, 500);\n",
       "            "
      ],
      "text/plain": [
       "<IPython.core.display.Javascript object>"
      ]
     },
     "metadata": {},
     "output_type": "display_data"
    }
   ],
   "source": [
    "beer_by_authors_model = umap.UMAP(\n",
    "    n_neighbors=15, n_components=2, metric=\"jaccard\", unique=True\n",
    ").fit(beer_by_authors.todense())"
   ]
  },
  {
   "cell_type": "code",
   "execution_count": 16,
   "metadata": {},
   "outputs": [
    {
     "data": {
      "application/javascript": [
       "\n",
       "            setTimeout(function() {\n",
       "                var nbb_cell_id = 16;\n",
       "                var nbb_unformatted_code = \"# abv_label = popular_beer.beer_abv.fillna(0)\\nhover_df = popular_beer[\\\"beer_beerid beer_name brewery_name beer_style\\\".split()]\\nf = umap.plot.interactive(\\n    beer_by_authors_model,\\n    labels=popular_beer.brewery_name,\\n    hover_data=hover_df,\\n    theme=\\\"fire\\\",\\n    point_size=5,\\n)\\n# save(f,'results/popular_beer_by_positive_reviewers_jaccard.html')\\nshow(f)\";\n",
       "                var nbb_formatted_code = \"# abv_label = popular_beer.beer_abv.fillna(0)\\nhover_df = popular_beer[\\\"beer_beerid beer_name brewery_name beer_style\\\".split()]\\nf = umap.plot.interactive(\\n    beer_by_authors_model,\\n    labels=popular_beer.brewery_name,\\n    hover_data=hover_df,\\n    theme=\\\"fire\\\",\\n    point_size=5,\\n)\\n# save(f,'results/popular_beer_by_positive_reviewers_jaccard.html')\\nshow(f)\";\n",
       "                var nbb_cells = Jupyter.notebook.get_cells();\n",
       "                for (var i = 0; i < nbb_cells.length; ++i) {\n",
       "                    if (nbb_cells[i].input_prompt_number == nbb_cell_id) {\n",
       "                        if (nbb_cells[i].get_text() == nbb_unformatted_code) {\n",
       "                             nbb_cells[i].set_text(nbb_formatted_code);\n",
       "                        }\n",
       "                        break;\n",
       "                    }\n",
       "                }\n",
       "            }, 500);\n",
       "            "
      ],
      "text/plain": [
       "<IPython.core.display.Javascript object>"
      ]
     },
     "metadata": {},
     "output_type": "display_data"
    }
   ],
   "source": [
    "# abv_label = popular_beer.beer_abv.fillna(0)\n",
    "hover_df = popular_beer[\"beer_beerid beer_name brewery_name beer_style\".split()]\n",
    "f = umap.plot.interactive(\n",
    "    beer_by_authors_model,\n",
    "    labels=popular_beer.brewery_name,\n",
    "    hover_data=hover_df,\n",
    "    theme=\"fire\",\n",
    "    point_size=5,\n",
    ")\n",
    "# save(f,'results/popular_beer_by_positive_reviewers_jaccard.html')\n",
    "show(f)"
   ]
  },
  {
   "cell_type": "code",
   "execution_count": 16,
   "metadata": {},
   "outputs": [
    {
     "data": {
      "text/plain": [
       "(1540, 1540)"
      ]
     },
     "execution_count": 16,
     "metadata": {},
     "output_type": "execute_result"
    },
    {
     "data": {
      "application/javascript": [
       "\n",
       "            setTimeout(function() {\n",
       "                var nbb_cell_id = 16;\n",
       "                var nbb_unformatted_code = \"beer_by_authors_model.graph_.shape\";\n",
       "                var nbb_formatted_code = \"beer_by_authors_model.graph_.shape\";\n",
       "                var nbb_cells = Jupyter.notebook.get_cells();\n",
       "                for (var i = 0; i < nbb_cells.length; ++i) {\n",
       "                    if (nbb_cells[i].input_prompt_number == nbb_cell_id) {\n",
       "                        if (nbb_cells[i].get_text() == nbb_unformatted_code) {\n",
       "                             nbb_cells[i].set_text(nbb_formatted_code);\n",
       "                        }\n",
       "                        break;\n",
       "                    }\n",
       "                }\n",
       "            }, 500);\n",
       "            "
      ],
      "text/plain": [
       "<IPython.core.display.Javascript object>"
      ]
     },
     "metadata": {},
     "output_type": "display_data"
    }
   ],
   "source": [
    "beer_by_authors_model.graph_.shape"
   ]
  },
  {
   "cell_type": "code",
   "execution_count": 16,
   "metadata": {},
   "outputs": [
    {
     "data": {
      "application/javascript": [
       "\n",
       "            setTimeout(function() {\n",
       "                var nbb_cell_id = 16;\n",
       "                var nbb_unformatted_code = \"beer_by_authors_transformed = beer_by_authors_model.transform(beer_by_authors.todense())\";\n",
       "                var nbb_formatted_code = \"beer_by_authors_transformed = beer_by_authors_model.transform(beer_by_authors.todense())\";\n",
       "                var nbb_cells = Jupyter.notebook.get_cells();\n",
       "                for (var i = 0; i < nbb_cells.length; ++i) {\n",
       "                    if (nbb_cells[i].input_prompt_number == nbb_cell_id) {\n",
       "                        if (nbb_cells[i].get_text() == nbb_unformatted_code) {\n",
       "                             nbb_cells[i].set_text(nbb_formatted_code);\n",
       "                        }\n",
       "                        break;\n",
       "                    }\n",
       "                }\n",
       "            }, 500);\n",
       "            "
      ],
      "text/plain": [
       "<IPython.core.display.Javascript object>"
      ]
     },
     "metadata": {},
     "output_type": "display_data"
    }
   ],
   "source": [
    "beer_by_authors_transformed = beer_by_authors_model.transform(beer_by_authors.todense())"
   ]
  },
  {
   "cell_type": "code",
   "execution_count": 17,
   "metadata": {},
   "outputs": [
    {
     "data": {
      "text/plain": [
       "((1540, 5030), (1540, 2))"
      ]
     },
     "execution_count": 17,
     "metadata": {},
     "output_type": "execute_result"
    },
    {
     "data": {
      "application/javascript": [
       "\n",
       "            setTimeout(function() {\n",
       "                var nbb_cell_id = 17;\n",
       "                var nbb_unformatted_code = \"beer_by_authors.shape, beer_by_authors_transformed.shape\";\n",
       "                var nbb_formatted_code = \"beer_by_authors.shape, beer_by_authors_transformed.shape\";\n",
       "                var nbb_cells = Jupyter.notebook.get_cells();\n",
       "                for (var i = 0; i < nbb_cells.length; ++i) {\n",
       "                    if (nbb_cells[i].input_prompt_number == nbb_cell_id) {\n",
       "                        if (nbb_cells[i].get_text() == nbb_unformatted_code) {\n",
       "                             nbb_cells[i].set_text(nbb_formatted_code);\n",
       "                        }\n",
       "                        break;\n",
       "                    }\n",
       "                }\n",
       "            }, 500);\n",
       "            "
      ],
      "text/plain": [
       "<IPython.core.display.Javascript object>"
      ]
     },
     "metadata": {},
     "output_type": "display_data"
    }
   ],
   "source": [
    "beer_by_authors.shape, beer_by_authors_transformed.shape"
   ]
  },
  {
   "cell_type": "code",
   "execution_count": 20,
   "metadata": {},
   "outputs": [
    {
     "data": {
      "text/plain": [
       "array([ 4.9226203, 10.900734 ], dtype=float32)"
      ]
     },
     "execution_count": 20,
     "metadata": {},
     "output_type": "execute_result"
    },
    {
     "data": {
      "application/javascript": [
       "\n",
       "            setTimeout(function() {\n",
       "                var nbb_cell_id = 20;\n",
       "                var nbb_unformatted_code = \"beer_by_authors_transformed.min(axis=0)\";\n",
       "                var nbb_formatted_code = \"beer_by_authors_transformed.min(axis=0)\";\n",
       "                var nbb_cells = Jupyter.notebook.get_cells();\n",
       "                for (var i = 0; i < nbb_cells.length; ++i) {\n",
       "                    if (nbb_cells[i].input_prompt_number == nbb_cell_id) {\n",
       "                        if (nbb_cells[i].get_text() == nbb_unformatted_code) {\n",
       "                             nbb_cells[i].set_text(nbb_formatted_code);\n",
       "                        }\n",
       "                        break;\n",
       "                    }\n",
       "                }\n",
       "            }, 500);\n",
       "            "
      ],
      "text/plain": [
       "<IPython.core.display.Javascript object>"
      ]
     },
     "metadata": {},
     "output_type": "display_data"
    }
   ],
   "source": [
    "beer_by_authors_transformed.min(axis=0)"
   ]
  },
  {
   "cell_type": "code",
   "execution_count": 21,
   "metadata": {},
   "outputs": [
    {
     "data": {
      "application/javascript": [
       "\n",
       "            setTimeout(function() {\n",
       "                var nbb_cell_id = 21;\n",
       "                var nbb_unformatted_code = \"import seaborn as sb\";\n",
       "                var nbb_formatted_code = \"import seaborn as sb\";\n",
       "                var nbb_cells = Jupyter.notebook.get_cells();\n",
       "                for (var i = 0; i < nbb_cells.length; ++i) {\n",
       "                    if (nbb_cells[i].input_prompt_number == nbb_cell_id) {\n",
       "                        if (nbb_cells[i].get_text() == nbb_unformatted_code) {\n",
       "                             nbb_cells[i].set_text(nbb_formatted_code);\n",
       "                        }\n",
       "                        break;\n",
       "                    }\n",
       "                }\n",
       "            }, 500);\n",
       "            "
      ],
      "text/plain": [
       "<IPython.core.display.Javascript object>"
      ]
     },
     "metadata": {},
     "output_type": "display_data"
    }
   ],
   "source": [
    "import seaborn as sb"
   ]
  },
  {
   "cell_type": "code",
   "execution_count": 25,
   "metadata": {},
   "outputs": [
    {
     "data": {
      "text/plain": [
       "<matplotlib.axes._subplots.AxesSubplot at 0x1387aa7d0>"
      ]
     },
     "execution_count": 25,
     "metadata": {},
     "output_type": "execute_result"
    },
    {
     "data": {
      "image/png": "[encoded data removed]",
      "text/plain": [
       "<Figure size 432x288 with 1 Axes>"
      ]
     },
     "metadata": {
      "needs_background": "light"
     },
     "output_type": "display_data"
    },
    {
     "data": {
      "application/javascript": [
       "\n",
       "            setTimeout(function() {\n",
       "                var nbb_cell_id = 25;\n",
       "                var nbb_unformatted_code = \"sb.scatterplot(beer_by_authors_transformed[:, 0], beer_by_authors_transformed[:, 1])\";\n",
       "                var nbb_formatted_code = \"sb.scatterplot(beer_by_authors_transformed[:, 0], beer_by_authors_transformed[:, 1])\";\n",
       "                var nbb_cells = Jupyter.notebook.get_cells();\n",
       "                for (var i = 0; i < nbb_cells.length; ++i) {\n",
       "                    if (nbb_cells[i].input_prompt_number == nbb_cell_id) {\n",
       "                        if (nbb_cells[i].get_text() == nbb_unformatted_code) {\n",
       "                             nbb_cells[i].set_text(nbb_formatted_code);\n",
       "                        }\n",
       "                        break;\n",
       "                    }\n",
       "                }\n",
       "            }, 500);\n",
       "            "
      ],
      "text/plain": [
       "<IPython.core.display.Javascript object>"
      ]
     },
     "metadata": {},
     "output_type": "display_data"
    }
   ],
   "source": [
    "sb.scatterplot(beer_by_authors_transformed[:, 0], beer_by_authors_transformed[:, 1])"
   ]
  },
  {
   "cell_type": "code",
   "execution_count": 28,
   "metadata": {},
   "outputs": [
    {
     "data": {
      "text/plain": [
       "True"
      ]
     },
     "execution_count": 28,
     "metadata": {},
     "output_type": "execute_result"
    },
    {
     "data": {
      "application/javascript": [
       "\n",
       "            setTimeout(function() {\n",
       "                var nbb_cell_id = 28;\n",
       "                var nbb_unformatted_code = \"(beer_by_authors_transformed == beer_by_authors_model.embedding_).all()\";\n",
       "                var nbb_formatted_code = \"(beer_by_authors_transformed == beer_by_authors_model.embedding_).all()\";\n",
       "                var nbb_cells = Jupyter.notebook.get_cells();\n",
       "                for (var i = 0; i < nbb_cells.length; ++i) {\n",
       "                    if (nbb_cells[i].input_prompt_number == nbb_cell_id) {\n",
       "                        if (nbb_cells[i].get_text() == nbb_unformatted_code) {\n",
       "                             nbb_cells[i].set_text(nbb_formatted_code);\n",
       "                        }\n",
       "                        break;\n",
       "                    }\n",
       "                }\n",
       "            }, 500);\n",
       "            "
      ],
      "text/plain": [
       "<IPython.core.display.Javascript object>"
      ]
     },
     "metadata": {},
     "output_type": "display_data"
    }
   ],
   "source": [
    "(beer_by_authors_transformed == beer_by_authors_model.embedding_).all()"
   ]
  },
  {
   "cell_type": "code",
   "execution_count": null,
   "metadata": {},
   "outputs": [],
   "source": []
  }
 ],
 "metadata": {
  "kernelspec": {
   "display_name": "Python 3",
   "language": "python",
   "name": "python3"
  },
  "language_info": {
   "codemirror_mode": {
    "name": "ipython",
    "version": 3
   },
   "file_extension": ".py",
   "mimetype": "text/x-python",
   "name": "python",
   "nbconvert_exporter": "python",
   "pygments_lexer": "ipython3",
   "version": "3.7.6"
  }
 },
 "nbformat": 4,
 "nbformat_minor": 4
}
