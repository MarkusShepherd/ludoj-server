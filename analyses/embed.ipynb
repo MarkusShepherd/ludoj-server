{
 "cells": [
  {
   "cell_type": "code",
   "execution_count": 1,
   "metadata": {},
   "outputs": [
    {
     "data": {
      "application/javascript": [
       "\n",
       "            setTimeout(function() {\n",
       "                var nbb_cell_id = 1;\n",
       "                var nbb_unformatted_code = \"import json\\n\\nfrom itertools import islice\\n\\nimport numpy as np\\nimport pandas as pd\\nimport umap\\nimport umap.plot\\n\\nfrom pytility import arg_to_iter\\nfrom sklearn.feature_extraction.text import CountVectorizer, TfidfVectorizer\\n\\n# Some plotting libraries\\nimport matplotlib.pyplot as plt\\nfrom bokeh.plotting import show, save, output_notebook, output_file\\nfrom bokeh.resources import INLINE\\n\\n%matplotlib inline\\n%load_ext nb_black\\n%load_ext lab_black\";\n",
       "                var nbb_formatted_code = \"import json\\n\\nfrom itertools import islice\\n\\nimport numpy as np\\nimport pandas as pd\\nimport umap\\nimport umap.plot\\n\\nfrom pytility import arg_to_iter\\nfrom sklearn.feature_extraction.text import CountVectorizer, TfidfVectorizer\\n\\n# Some plotting libraries\\nimport matplotlib.pyplot as plt\\nfrom bokeh.plotting import show, save, output_notebook, output_file\\nfrom bokeh.resources import INLINE\\n\\n%matplotlib inline\\n%load_ext nb_black\\n%load_ext lab_black\";\n",
       "                var nbb_cells = Jupyter.notebook.get_cells();\n",
       "                for (var i = 0; i < nbb_cells.length; ++i) {\n",
       "                    if (nbb_cells[i].input_prompt_number == nbb_cell_id) {\n",
       "                        if (nbb_cells[i].get_text() == nbb_unformatted_code) {\n",
       "                             nbb_cells[i].set_text(nbb_formatted_code);\n",
       "                        }\n",
       "                        break;\n",
       "                    }\n",
       "                }\n",
       "            }, 500);\n",
       "            "
      ],
      "text/plain": [
       "<IPython.core.display.Javascript object>"
      ]
     },
     "metadata": {},
     "output_type": "display_data"
    }
   ],
   "source": [
    "import json\n",
    "\n",
    "from itertools import islice\n",
    "\n",
    "import numpy as np\n",
    "import pandas as pd\n",
    "import umap\n",
    "import umap.plot\n",
    "\n",
    "from pytility import arg_to_iter\n",
    "from sklearn.feature_extraction.text import CountVectorizer, TfidfVectorizer\n",
    "\n",
    "# Some plotting libraries\n",
    "import matplotlib.pyplot as plt\n",
    "from bokeh.plotting import show, save, output_notebook, output_file\n",
    "from bokeh.resources import INLINE\n",
    "\n",
    "%matplotlib inline\n",
    "%load_ext nb_black\n",
    "%load_ext lab_black"
   ]
  },
  {
   "cell_type": "code",
   "execution_count": 2,
   "metadata": {},
   "outputs": [
    {
     "data": {
      "application/javascript": [
       "\n",
       "            setTimeout(function() {\n",
       "                var nbb_cell_id = 2;\n",
       "                var nbb_unformatted_code = \"def process(lines, required_features, copy_features):\\n    required_features = frozenset(arg_to_iter(required_features))\\n    copy_features = tuple(arg_to_iter(copy_features))\\n\\n    for line in arg_to_iter(lines):\\n        item = json.loads(line)\\n        if all(item.get(feature) is not None for feature in required_features):\\n            yield {\\n                feature: item.get(feature) for feature in copy_features\\n            } if copy_features else item\\n\\n\\ndef load(path, required_features=None, copy_features=None, max_items=None):\\n    with open(path) as file:\\n        items = process(\\n            lines=file, required_features=required_features, copy_features=copy_features\\n        )\\n        items = islice(items, max_items) if max_items else items\\n        yield from items\";\n",
       "                var nbb_formatted_code = \"def process(lines, required_features, copy_features):\\n    required_features = frozenset(arg_to_iter(required_features))\\n    copy_features = tuple(arg_to_iter(copy_features))\\n\\n    for line in arg_to_iter(lines):\\n        item = json.loads(line)\\n        if all(item.get(feature) is not None for feature in required_features):\\n            yield {\\n                feature: item.get(feature) for feature in copy_features\\n            } if copy_features else item\\n\\n\\ndef load(path, required_features=None, copy_features=None, max_items=None):\\n    with open(path) as file:\\n        items = process(\\n            lines=file, required_features=required_features, copy_features=copy_features\\n        )\\n        items = islice(items, max_items) if max_items else items\\n        yield from items\";\n",
       "                var nbb_cells = Jupyter.notebook.get_cells();\n",
       "                for (var i = 0; i < nbb_cells.length; ++i) {\n",
       "                    if (nbb_cells[i].input_prompt_number == nbb_cell_id) {\n",
       "                        if (nbb_cells[i].get_text() == nbb_unformatted_code) {\n",
       "                             nbb_cells[i].set_text(nbb_formatted_code);\n",
       "                        }\n",
       "                        break;\n",
       "                    }\n",
       "                }\n",
       "            }, 500);\n",
       "            "
      ],
      "text/plain": [
       "<IPython.core.display.Javascript object>"
      ]
     },
     "metadata": {},
     "output_type": "display_data"
    }
   ],
   "source": [
    "def process(lines, required_features, copy_features):\n",
    "    required_features = frozenset(arg_to_iter(required_features))\n",
    "    copy_features = tuple(arg_to_iter(copy_features))\n",
    "\n",
    "    for line in arg_to_iter(lines):\n",
    "        item = json.loads(line)\n",
    "        if all(item.get(feature) is not None for feature in required_features):\n",
    "            yield {\n",
    "                feature: item.get(feature) for feature in copy_features\n",
    "            } if copy_features else item\n",
    "\n",
    "\n",
    "def load(path, required_features=None, copy_features=None, max_items=None):\n",
    "    with open(path) as file:\n",
    "        items = process(\n",
    "            lines=file, required_features=required_features, copy_features=copy_features\n",
    "        )\n",
    "        items = islice(items, max_items) if max_items else items\n",
    "        yield from items"
   ]
  },
  {
   "cell_type": "code",
   "execution_count": 4,
   "metadata": {},
   "outputs": [
    {
     "data": {
      "text/html": [
       "<div>\n",
       "<style scoped>\n",
       "    .dataframe tbody tr th:only-of-type {\n",
       "        vertical-align: middle;\n",
       "    }\n",
       "\n",
       "    .dataframe tbody tr th {\n",
       "        vertical-align: top;\n",
       "    }\n",
       "\n",
       "    .dataframe thead th {\n",
       "        text-align: right;\n",
       "    }\n",
       "</style>\n",
       "<table border=\"1\" class=\"dataframe\">\n",
       "  <thead>\n",
       "    <tr style=\"text-align: right;\">\n",
       "      <th></th>\n",
       "      <th>alt_name</th>\n",
       "      <th>artist</th>\n",
       "      <th>avg_rating</th>\n",
       "      <th>bayes_rating</th>\n",
       "      <th>best_rating</th>\n",
       "      <th>category</th>\n",
       "      <th>compilation</th>\n",
       "      <th>complexity</th>\n",
       "      <th>cooperative</th>\n",
       "      <th>description</th>\n",
       "      <th>...</th>\n",
       "      <th>rank</th>\n",
       "      <th>stddev_rating</th>\n",
       "      <th>url</th>\n",
       "      <th>video_url</th>\n",
       "      <th>worst_rating</th>\n",
       "      <th>year</th>\n",
       "      <th>implementation</th>\n",
       "      <th>expansion</th>\n",
       "      <th>integration</th>\n",
       "      <th>compilation_of</th>\n",
       "    </tr>\n",
       "    <tr>\n",
       "      <th>bgg_id</th>\n",
       "      <th></th>\n",
       "      <th></th>\n",
       "      <th></th>\n",
       "      <th></th>\n",
       "      <th></th>\n",
       "      <th></th>\n",
       "      <th></th>\n",
       "      <th></th>\n",
       "      <th></th>\n",
       "      <th></th>\n",
       "      <th></th>\n",
       "      <th></th>\n",
       "      <th></th>\n",
       "      <th></th>\n",
       "      <th></th>\n",
       "      <th></th>\n",
       "      <th></th>\n",
       "      <th></th>\n",
       "      <th></th>\n",
       "      <th></th>\n",
       "      <th></th>\n",
       "    </tr>\n",
       "  </thead>\n",
       "  <tbody>\n",
       "    <tr>\n",
       "      <th>1</th>\n",
       "      <td>[Die Macher, 德国大选, 디 마허]</td>\n",
       "      <td>[Marcus Gschwendtner:12517, Harald Lieske:4959]</td>\n",
       "      <td>7.62301</td>\n",
       "      <td>7.15698</td>\n",
       "      <td>10</td>\n",
       "      <td>[Economic:1021, Negotiation:1026, Political:1001]</td>\n",
       "      <td>False</td>\n",
       "      <td>4.3441</td>\n",
       "      <td>False</td>\n",
       "      <td>Die Macher is a game about seven sequential po...</td>\n",
       "      <td>...</td>\n",
       "      <td>252.0</td>\n",
       "      <td>1.59774</td>\n",
       "      <td>https://boardgamegeek.com/boardgame/1</td>\n",
       "      <td>[http://www.youtube.com/watch?v=2dBbY-bKVoE, h...</td>\n",
       "      <td>1</td>\n",
       "      <td>1986.0</td>\n",
       "      <td>NaN</td>\n",
       "      <td>NaN</td>\n",
       "      <td>NaN</td>\n",
       "      <td>NaN</td>\n",
       "    </tr>\n",
       "    <tr>\n",
       "      <th>2</th>\n",
       "      <td>[Dragonmaster]</td>\n",
       "      <td>[Bob Pepper:12424]</td>\n",
       "      <td>6.61418</td>\n",
       "      <td>5.80881</td>\n",
       "      <td>10</td>\n",
       "      <td>[Card Game:1002, Fantasy:1010]</td>\n",
       "      <td>False</td>\n",
       "      <td>1.9630</td>\n",
       "      <td>False</td>\n",
       "      <td>Dragonmaster is a trick-taking card game based...</td>\n",
       "      <td>...</td>\n",
       "      <td>3432.0</td>\n",
       "      <td>1.44775</td>\n",
       "      <td>https://boardgamegeek.com/boardgame/2</td>\n",
       "      <td>[http://www.youtube.com/watch?v=sKXnys4wxt8, h...</td>\n",
       "      <td>1</td>\n",
       "      <td>1981.0</td>\n",
       "      <td>[2174]</td>\n",
       "      <td>NaN</td>\n",
       "      <td>NaN</td>\n",
       "      <td>NaN</td>\n",
       "    </tr>\n",
       "    <tr>\n",
       "      <th>3</th>\n",
       "      <td>[Samurai, Samouraï, Samurái, Samuraj, Самурай,...</td>\n",
       "      <td>[Franz Vohwinkel:11883]</td>\n",
       "      <td>7.44228</td>\n",
       "      <td>7.24748</td>\n",
       "      <td>10</td>\n",
       "      <td>[Abstract Strategy:1009, Medieval:1035]</td>\n",
       "      <td>False</td>\n",
       "      <td>2.4961</td>\n",
       "      <td>False</td>\n",
       "      <td>Part of the Knizia tile-laying trilogy, Samura...</td>\n",
       "      <td>...</td>\n",
       "      <td>195.0</td>\n",
       "      <td>1.18415</td>\n",
       "      <td>https://boardgamegeek.com/boardgame/3</td>\n",
       "      <td>[http://www.youtube.com/watch?v=yqO-mYfzIdg, h...</td>\n",
       "      <td>1</td>\n",
       "      <td>1998.0</td>\n",
       "      <td>NaN</td>\n",
       "      <td>NaN</td>\n",
       "      <td>NaN</td>\n",
       "      <td>NaN</td>\n",
       "    </tr>\n",
       "    <tr>\n",
       "      <th>4</th>\n",
       "      <td>[Tal der Könige]</td>\n",
       "      <td>[Thomas di Paolo:2277]</td>\n",
       "      <td>6.60612</td>\n",
       "      <td>5.70425</td>\n",
       "      <td>10</td>\n",
       "      <td>[Ancient:1050]</td>\n",
       "      <td>False</td>\n",
       "      <td>2.6667</td>\n",
       "      <td>False</td>\n",
       "      <td>When you see the triangular box and the luxuri...</td>\n",
       "      <td>...</td>\n",
       "      <td>4489.0</td>\n",
       "      <td>1.22370</td>\n",
       "      <td>https://boardgamegeek.com/boardgame/4</td>\n",
       "      <td>NaN</td>\n",
       "      <td>1</td>\n",
       "      <td>1992.0</td>\n",
       "      <td>NaN</td>\n",
       "      <td>NaN</td>\n",
       "      <td>NaN</td>\n",
       "      <td>NaN</td>\n",
       "    </tr>\n",
       "    <tr>\n",
       "      <th>5</th>\n",
       "      <td>[Acquire, Cartel, Grand Hôtel, Hotel-Haie, Hot...</td>\n",
       "      <td>[Scott Okumura:12658, Peter Whitley:18317]</td>\n",
       "      <td>7.34589</td>\n",
       "      <td>7.16978</td>\n",
       "      <td>10</td>\n",
       "      <td>[Economic:1021]</td>\n",
       "      <td>False</td>\n",
       "      <td>2.5063</td>\n",
       "      <td>False</td>\n",
       "      <td>In Acquire, each player strategically invests ...</td>\n",
       "      <td>...</td>\n",
       "      <td>245.0</td>\n",
       "      <td>1.33793</td>\n",
       "      <td>https://boardgamegeek.com/boardgame/5</td>\n",
       "      <td>[http://www.youtube.com/watch?v=dxwp5GqekJU, h...</td>\n",
       "      <td>1</td>\n",
       "      <td>1964.0</td>\n",
       "      <td>NaN</td>\n",
       "      <td>NaN</td>\n",
       "      <td>NaN</td>\n",
       "      <td>NaN</td>\n",
       "    </tr>\n",
       "  </tbody>\n",
       "</table>\n",
       "<p>5 rows × 43 columns</p>\n",
       "</div>"
      ],
      "text/plain": [
       "                                                 alt_name  \\\n",
       "bgg_id                                                      \n",
       "1                                [Die Macher, 德国大选, 디 마허]   \n",
       "2                                          [Dragonmaster]   \n",
       "3       [Samurai, Samouraï, Samurái, Samuraj, Самурай,...   \n",
       "4                                        [Tal der Könige]   \n",
       "5       [Acquire, Cartel, Grand Hôtel, Hotel-Haie, Hot...   \n",
       "\n",
       "                                                 artist  avg_rating  \\\n",
       "bgg_id                                                                \n",
       "1       [Marcus Gschwendtner:12517, Harald Lieske:4959]     7.62301   \n",
       "2                                    [Bob Pepper:12424]     6.61418   \n",
       "3                               [Franz Vohwinkel:11883]     7.44228   \n",
       "4                                [Thomas di Paolo:2277]     6.60612   \n",
       "5            [Scott Okumura:12658, Peter Whitley:18317]     7.34589   \n",
       "\n",
       "        bayes_rating  best_rating  \\\n",
       "bgg_id                              \n",
       "1            7.15698           10   \n",
       "2            5.80881           10   \n",
       "3            7.24748           10   \n",
       "4            5.70425           10   \n",
       "5            7.16978           10   \n",
       "\n",
       "                                                 category  compilation  \\\n",
       "bgg_id                                                                   \n",
       "1       [Economic:1021, Negotiation:1026, Political:1001]        False   \n",
       "2                          [Card Game:1002, Fantasy:1010]        False   \n",
       "3                 [Abstract Strategy:1009, Medieval:1035]        False   \n",
       "4                                          [Ancient:1050]        False   \n",
       "5                                         [Economic:1021]        False   \n",
       "\n",
       "        complexity  cooperative  \\\n",
       "bgg_id                            \n",
       "1           4.3441        False   \n",
       "2           1.9630        False   \n",
       "3           2.4961        False   \n",
       "4           2.6667        False   \n",
       "5           2.5063        False   \n",
       "\n",
       "                                              description  ...    rank  \\\n",
       "bgg_id                                                     ...           \n",
       "1       Die Macher is a game about seven sequential po...  ...   252.0   \n",
       "2       Dragonmaster is a trick-taking card game based...  ...  3432.0   \n",
       "3       Part of the Knizia tile-laying trilogy, Samura...  ...   195.0   \n",
       "4       When you see the triangular box and the luxuri...  ...  4489.0   \n",
       "5       In Acquire, each player strategically invests ...  ...   245.0   \n",
       "\n",
       "        stddev_rating                                    url  \\\n",
       "bgg_id                                                         \n",
       "1             1.59774  https://boardgamegeek.com/boardgame/1   \n",
       "2             1.44775  https://boardgamegeek.com/boardgame/2   \n",
       "3             1.18415  https://boardgamegeek.com/boardgame/3   \n",
       "4             1.22370  https://boardgamegeek.com/boardgame/4   \n",
       "5             1.33793  https://boardgamegeek.com/boardgame/5   \n",
       "\n",
       "                                                video_url  worst_rating  \\\n",
       "bgg_id                                                                    \n",
       "1       [http://www.youtube.com/watch?v=2dBbY-bKVoE, h...             1   \n",
       "2       [http://www.youtube.com/watch?v=sKXnys4wxt8, h...             1   \n",
       "3       [http://www.youtube.com/watch?v=yqO-mYfzIdg, h...             1   \n",
       "4                                                     NaN             1   \n",
       "5       [http://www.youtube.com/watch?v=dxwp5GqekJU, h...             1   \n",
       "\n",
       "          year implementation  expansion  integration  compilation_of  \n",
       "bgg_id                                                                 \n",
       "1       1986.0            NaN        NaN          NaN             NaN  \n",
       "2       1981.0         [2174]        NaN          NaN             NaN  \n",
       "3       1998.0            NaN        NaN          NaN             NaN  \n",
       "4       1992.0            NaN        NaN          NaN             NaN  \n",
       "5       1964.0            NaN        NaN          NaN             NaN  \n",
       "\n",
       "[5 rows x 43 columns]"
      ]
     },
     "execution_count": 4,
     "metadata": {},
     "output_type": "execute_result"
    },
    {
     "data": {
      "application/javascript": [
       "\n",
       "            setTimeout(function() {\n",
       "                var nbb_cell_id = 4;\n",
       "                var nbb_unformatted_code = \"records = load(path=\\\"../../board-game-data/scraped/bgg_GameItem.jl\\\")\\ngames = pd.DataFrame.from_records(records, index=\\\"bgg_id\\\")\\ngames.head()\";\n",
       "                var nbb_formatted_code = \"records = load(path=\\\"../../board-game-data/scraped/bgg_GameItem.jl\\\")\\ngames = pd.DataFrame.from_records(records, index=\\\"bgg_id\\\")\\ngames.head()\";\n",
       "                var nbb_cells = Jupyter.notebook.get_cells();\n",
       "                for (var i = 0; i < nbb_cells.length; ++i) {\n",
       "                    if (nbb_cells[i].input_prompt_number == nbb_cell_id) {\n",
       "                        if (nbb_cells[i].get_text() == nbb_unformatted_code) {\n",
       "                             nbb_cells[i].set_text(nbb_formatted_code);\n",
       "                        }\n",
       "                        break;\n",
       "                    }\n",
       "                }\n",
       "            }, 500);\n",
       "            "
      ],
      "text/plain": [
       "<IPython.core.display.Javascript object>"
      ]
     },
     "metadata": {},
     "output_type": "display_data"
    }
   ],
   "source": [
    "records = load(path=\"../../board-game-data/scraped/bgg_GameItem.jl\")\n",
    "games = pd.DataFrame.from_records(records, index=\"bgg_id\")\n",
    "games.head()"
   ]
  },
  {
   "cell_type": "code",
   "execution_count": 5,
   "metadata": {},
   "outputs": [
    {
     "name": "stdout",
     "output_type": "stream",
     "text": [
      "CPU times: user 4min 48s, sys: 21.6 s, total: 5min 9s\n",
      "Wall time: 5min 19s\n"
     ]
    },
    {
     "data": {
      "text/html": [
       "<div>\n",
       "<style scoped>\n",
       "    .dataframe tbody tr th:only-of-type {\n",
       "        vertical-align: middle;\n",
       "    }\n",
       "\n",
       "    .dataframe tbody tr th {\n",
       "        vertical-align: top;\n",
       "    }\n",
       "\n",
       "    .dataframe thead th {\n",
       "        text-align: right;\n",
       "    }\n",
       "</style>\n",
       "<table border=\"1\" class=\"dataframe\">\n",
       "  <thead>\n",
       "    <tr style=\"text-align: right;\">\n",
       "      <th></th>\n",
       "      <th>bgg_id</th>\n",
       "      <th>bgg_user_name</th>\n",
       "      <th>bgg_user_play_count</th>\n",
       "      <th>bgg_user_owned</th>\n",
       "      <th>bgg_user_rating</th>\n",
       "    </tr>\n",
       "  </thead>\n",
       "  <tbody>\n",
       "    <tr>\n",
       "      <th>0</th>\n",
       "      <td>13</td>\n",
       "      <td>beastvol</td>\n",
       "      <td>0</td>\n",
       "      <td>True</td>\n",
       "      <td>8.0</td>\n",
       "    </tr>\n",
       "    <tr>\n",
       "      <th>1</th>\n",
       "      <td>118</td>\n",
       "      <td>beastvol</td>\n",
       "      <td>0</td>\n",
       "      <td>True</td>\n",
       "      <td>7.0</td>\n",
       "    </tr>\n",
       "    <tr>\n",
       "      <th>2</th>\n",
       "      <td>278</td>\n",
       "      <td>beastvol</td>\n",
       "      <td>0</td>\n",
       "      <td>True</td>\n",
       "      <td>7.0</td>\n",
       "    </tr>\n",
       "    <tr>\n",
       "      <th>3</th>\n",
       "      <td>823</td>\n",
       "      <td>beastvol</td>\n",
       "      <td>0</td>\n",
       "      <td>True</td>\n",
       "      <td>6.0</td>\n",
       "    </tr>\n",
       "    <tr>\n",
       "      <th>4</th>\n",
       "      <td>3076</td>\n",
       "      <td>beastvol</td>\n",
       "      <td>0</td>\n",
       "      <td>True</td>\n",
       "      <td>9.0</td>\n",
       "    </tr>\n",
       "  </tbody>\n",
       "</table>\n",
       "</div>"
      ],
      "text/plain": [
       "   bgg_id bgg_user_name  bgg_user_play_count  bgg_user_owned  bgg_user_rating\n",
       "0      13      beastvol                    0            True              8.0\n",
       "1     118      beastvol                    0            True              7.0\n",
       "2     278      beastvol                    0            True              7.0\n",
       "3     823      beastvol                    0            True              6.0\n",
       "4    3076      beastvol                    0            True              9.0"
      ]
     },
     "execution_count": 5,
     "metadata": {},
     "output_type": "execute_result"
    },
    {
     "data": {
      "application/javascript": [
       "\n",
       "            setTimeout(function() {\n",
       "                var nbb_cell_id = 5;\n",
       "                var nbb_unformatted_code = \"REQUIRED_FEATURES = {\\\"bgg_id\\\", \\\"bgg_user_name\\\", \\\"bgg_user_rating\\\"}\\nCOPY_FEATURES = REQUIRED_FEATURES | {\\\"bgg_user_owned\\\", \\\"bgg_user_play_count\\\"}\\n\\nrecords = load(\\n    path=\\\"../../board-game-data/scraped/bgg_RatingItem.jl\\\",\\n    required_features=REQUIRED_FEATURES,\\n    copy_features=COPY_FEATURES,\\n)\\n%time ratings = pd.DataFrame.from_records(records)\\nratings.head()\";\n",
       "                var nbb_formatted_code = \"REQUIRED_FEATURES = {\\\"bgg_id\\\", \\\"bgg_user_name\\\", \\\"bgg_user_rating\\\"}\\nCOPY_FEATURES = REQUIRED_FEATURES | {\\\"bgg_user_owned\\\", \\\"bgg_user_play_count\\\"}\\n\\nrecords = load(\\n    path=\\\"../../board-game-data/scraped/bgg_RatingItem.jl\\\",\\n    required_features=REQUIRED_FEATURES,\\n    copy_features=COPY_FEATURES,\\n)\\n%time ratings = pd.DataFrame.from_records(records)\\nratings.head()\";\n",
       "                var nbb_cells = Jupyter.notebook.get_cells();\n",
       "                for (var i = 0; i < nbb_cells.length; ++i) {\n",
       "                    if (nbb_cells[i].input_prompt_number == nbb_cell_id) {\n",
       "                        if (nbb_cells[i].get_text() == nbb_unformatted_code) {\n",
       "                             nbb_cells[i].set_text(nbb_formatted_code);\n",
       "                        }\n",
       "                        break;\n",
       "                    }\n",
       "                }\n",
       "            }, 500);\n",
       "            "
      ],
      "text/plain": [
       "<IPython.core.display.Javascript object>"
      ]
     },
     "metadata": {},
     "output_type": "display_data"
    }
   ],
   "source": [
    "REQUIRED_FEATURES = {\"bgg_id\", \"bgg_user_name\", \"bgg_user_rating\"}\n",
    "COPY_FEATURES = REQUIRED_FEATURES | {\"bgg_user_owned\", \"bgg_user_play_count\"}\n",
    "\n",
    "records = load(\n",
    "    path=\"../../board-game-data/scraped/bgg_RatingItem.jl\",\n",
    "    required_features=REQUIRED_FEATURES,\n",
    "    copy_features=COPY_FEATURES,\n",
    ")\n",
    "%time ratings = pd.DataFrame.from_records(records)\n",
    "ratings.head()"
   ]
  },
  {
   "cell_type": "code",
   "execution_count": 6,
   "metadata": {},
   "outputs": [
    {
     "data": {
      "text/plain": [
       "<matplotlib.axes._subplots.AxesSubplot at 0x16bf032d0>"
      ]
     },
     "execution_count": 6,
     "metadata": {},
     "output_type": "execute_result"
    },
    {
     "data": {
      "image/png": "[encoded data removed]",
      "text/plain": [
       "<Figure size 432x288 with 1 Axes>"
      ]
     },
     "metadata": {
      "needs_background": "light"
     },
     "output_type": "display_data"
    },
    {
     "data": {
      "application/javascript": [
       "\n",
       "            setTimeout(function() {\n",
       "                var nbb_cell_id = 6;\n",
       "                var nbb_unformatted_code = \"ratings.bgg_user_rating.hist(bins=10)\";\n",
       "                var nbb_formatted_code = \"ratings.bgg_user_rating.hist(bins=10)\";\n",
       "                var nbb_cells = Jupyter.notebook.get_cells();\n",
       "                for (var i = 0; i < nbb_cells.length; ++i) {\n",
       "                    if (nbb_cells[i].input_prompt_number == nbb_cell_id) {\n",
       "                        if (nbb_cells[i].get_text() == nbb_unformatted_code) {\n",
       "                             nbb_cells[i].set_text(nbb_formatted_code);\n",
       "                        }\n",
       "                        break;\n",
       "                    }\n",
       "                }\n",
       "            }, 500);\n",
       "            "
      ],
      "text/plain": [
       "<IPython.core.display.Javascript object>"
      ]
     },
     "metadata": {},
     "output_type": "display_data"
    }
   ],
   "source": [
    "ratings.bgg_user_rating.hist(bins=10)"
   ]
  },
  {
   "cell_type": "code",
   "execution_count": 7,
   "metadata": {},
   "outputs": [
    {
     "data": {
      "text/plain": [
       "(2216866, 5)"
      ]
     },
     "execution_count": 7,
     "metadata": {},
     "output_type": "execute_result"
    },
    {
     "data": {
      "application/javascript": [
       "\n",
       "            setTimeout(function() {\n",
       "                var nbb_cell_id = 7;\n",
       "                var nbb_unformatted_code = \"good_ratings = ratings[ratings.bgg_user_rating >= 9]\\ngood_ratings.shape\";\n",
       "                var nbb_formatted_code = \"good_ratings = ratings[ratings.bgg_user_rating >= 9]\\ngood_ratings.shape\";\n",
       "                var nbb_cells = Jupyter.notebook.get_cells();\n",
       "                for (var i = 0; i < nbb_cells.length; ++i) {\n",
       "                    if (nbb_cells[i].input_prompt_number == nbb_cell_id) {\n",
       "                        if (nbb_cells[i].get_text() == nbb_unformatted_code) {\n",
       "                             nbb_cells[i].set_text(nbb_formatted_code);\n",
       "                        }\n",
       "                        break;\n",
       "                    }\n",
       "                }\n",
       "            }, 500);\n",
       "            "
      ],
      "text/plain": [
       "<IPython.core.display.Javascript object>"
      ]
     },
     "metadata": {},
     "output_type": "display_data"
    }
   ],
   "source": [
    "good_ratings = ratings[ratings.bgg_user_rating >= 9]\n",
    "good_ratings.shape"
   ]
  },
  {
   "cell_type": "code",
   "execution_count": 8,
   "metadata": {},
   "outputs": [
    {
     "data": {
      "text/html": [
       "<div>\n",
       "<style scoped>\n",
       "    .dataframe tbody tr th:only-of-type {\n",
       "        vertical-align: middle;\n",
       "    }\n",
       "\n",
       "    .dataframe tbody tr th {\n",
       "        vertical-align: top;\n",
       "    }\n",
       "\n",
       "    .dataframe thead th {\n",
       "        text-align: right;\n",
       "    }\n",
       "</style>\n",
       "<table border=\"1\" class=\"dataframe\">\n",
       "  <thead>\n",
       "    <tr style=\"text-align: right;\">\n",
       "      <th></th>\n",
       "      <th>bgg_user_rating</th>\n",
       "      <th>bgg_user_name_list</th>\n",
       "      <th>bgg_user_name_num</th>\n",
       "    </tr>\n",
       "    <tr>\n",
       "      <th>bgg_id</th>\n",
       "      <th></th>\n",
       "      <th></th>\n",
       "      <th></th>\n",
       "    </tr>\n",
       "  </thead>\n",
       "  <tbody>\n",
       "    <tr>\n",
       "      <th>1</th>\n",
       "      <td>9.351416</td>\n",
       "      <td>.jck.;0492372665;0hohj;13steps;13walker;4x sca...</td>\n",
       "      <td>1278</td>\n",
       "    </tr>\n",
       "    <tr>\n",
       "      <th>2</th>\n",
       "      <td>9.374468</td>\n",
       "      <td>ahtitan;bard;bigscotty;bradyls;bvesco;calicoda...</td>\n",
       "      <td>47</td>\n",
       "    </tr>\n",
       "    <tr>\n",
       "      <th>3</th>\n",
       "      <td>9.250498</td>\n",
       "      <td>-toni-;-xxx-;1no_momo;47029;57881;8inferno8;a_...</td>\n",
       "      <td>1868</td>\n",
       "    </tr>\n",
       "    <tr>\n",
       "      <th>4</th>\n",
       "      <td>9.111111</td>\n",
       "      <td>arthemix;bernard;chuft;dix de sabre;gamegrunt;...</td>\n",
       "      <td>18</td>\n",
       "    </tr>\n",
       "    <tr>\n",
       "      <th>5</th>\n",
       "      <td>9.344686</td>\n",
       "      <td>1979 amc treo 755p;1no_momo;216stitches;2ndpla...</td>\n",
       "      <td>2560</td>\n",
       "    </tr>\n",
       "  </tbody>\n",
       "</table>\n",
       "</div>"
      ],
      "text/plain": [
       "        bgg_user_rating                                 bgg_user_name_list  \\\n",
       "bgg_id                                                                       \n",
       "1              9.351416  .jck.;0492372665;0hohj;13steps;13walker;4x sca...   \n",
       "2              9.374468  ahtitan;bard;bigscotty;bradyls;bvesco;calicoda...   \n",
       "3              9.250498  -toni-;-xxx-;1no_momo;47029;57881;8inferno8;a_...   \n",
       "4              9.111111  arthemix;bernard;chuft;dix de sabre;gamegrunt;...   \n",
       "5              9.344686  1979 amc treo 755p;1no_momo;216stitches;2ndpla...   \n",
       "\n",
       "        bgg_user_name_num  \n",
       "bgg_id                     \n",
       "1                    1278  \n",
       "2                      47  \n",
       "3                    1868  \n",
       "4                      18  \n",
       "5                    2560  "
      ]
     },
     "execution_count": 8,
     "metadata": {},
     "output_type": "execute_result"
    },
    {
     "data": {
      "application/javascript": [
       "\n",
       "            setTimeout(function() {\n",
       "                var nbb_cell_id = 8;\n",
       "                var nbb_unformatted_code = \"ratings_by_games = good_ratings.groupby(\\\"bgg_id\\\").agg(\\n    {\\\"bgg_user_rating\\\": \\\"mean\\\", \\\"bgg_user_name\\\": (\\\";\\\".join, len),}\\n)\\nratings_by_games.columns = (\\n    # \\\"bgg_id\\\",\\n    \\\"bgg_user_rating\\\",\\n    \\\"bgg_user_name_list\\\",\\n    \\\"bgg_user_name_num\\\",\\n)\\nratings_by_games.head()\";\n",
       "                var nbb_formatted_code = \"ratings_by_games = good_ratings.groupby(\\\"bgg_id\\\").agg(\\n    {\\\"bgg_user_rating\\\": \\\"mean\\\", \\\"bgg_user_name\\\": (\\\";\\\".join, len),}\\n)\\nratings_by_games.columns = (\\n    # \\\"bgg_id\\\",\\n    \\\"bgg_user_rating\\\",\\n    \\\"bgg_user_name_list\\\",\\n    \\\"bgg_user_name_num\\\",\\n)\\nratings_by_games.head()\";\n",
       "                var nbb_cells = Jupyter.notebook.get_cells();\n",
       "                for (var i = 0; i < nbb_cells.length; ++i) {\n",
       "                    if (nbb_cells[i].input_prompt_number == nbb_cell_id) {\n",
       "                        if (nbb_cells[i].get_text() == nbb_unformatted_code) {\n",
       "                             nbb_cells[i].set_text(nbb_formatted_code);\n",
       "                        }\n",
       "                        break;\n",
       "                    }\n",
       "                }\n",
       "            }, 500);\n",
       "            "
      ],
      "text/plain": [
       "<IPython.core.display.Javascript object>"
      ]
     },
     "metadata": {},
     "output_type": "display_data"
    }
   ],
   "source": [
    "ratings_by_games = good_ratings.groupby(\"bgg_id\").agg(\n",
    "    {\"bgg_user_rating\": \"mean\", \"bgg_user_name\": (\";\".join, len),}\n",
    ")\n",
    "ratings_by_games.columns = (\n",
    "    # \"bgg_id\",\n",
    "    \"bgg_user_rating\",\n",
    "    \"bgg_user_name_list\",\n",
    "    \"bgg_user_name_num\",\n",
    ")\n",
    "ratings_by_games.head()"
   ]
  },
  {
   "cell_type": "code",
   "execution_count": 9,
   "metadata": {},
   "outputs": [
    {
     "data": {
      "text/html": [
       "<div>\n",
       "<style scoped>\n",
       "    .dataframe tbody tr th:only-of-type {\n",
       "        vertical-align: middle;\n",
       "    }\n",
       "\n",
       "    .dataframe tbody tr th {\n",
       "        vertical-align: top;\n",
       "    }\n",
       "\n",
       "    .dataframe thead th {\n",
       "        text-align: right;\n",
       "    }\n",
       "</style>\n",
       "<table border=\"1\" class=\"dataframe\">\n",
       "  <thead>\n",
       "    <tr style=\"text-align: right;\">\n",
       "      <th></th>\n",
       "      <th>bgg_user_rating</th>\n",
       "      <th>bgg_user_name_list</th>\n",
       "      <th>bgg_user_name_num</th>\n",
       "      <th>alt_name</th>\n",
       "      <th>artist</th>\n",
       "      <th>avg_rating</th>\n",
       "      <th>bayes_rating</th>\n",
       "      <th>best_rating</th>\n",
       "      <th>category</th>\n",
       "      <th>compilation</th>\n",
       "      <th>...</th>\n",
       "      <th>rank</th>\n",
       "      <th>stddev_rating</th>\n",
       "      <th>url</th>\n",
       "      <th>video_url</th>\n",
       "      <th>worst_rating</th>\n",
       "      <th>year</th>\n",
       "      <th>implementation</th>\n",
       "      <th>expansion</th>\n",
       "      <th>integration</th>\n",
       "      <th>compilation_of</th>\n",
       "    </tr>\n",
       "    <tr>\n",
       "      <th>bgg_id</th>\n",
       "      <th></th>\n",
       "      <th></th>\n",
       "      <th></th>\n",
       "      <th></th>\n",
       "      <th></th>\n",
       "      <th></th>\n",
       "      <th></th>\n",
       "      <th></th>\n",
       "      <th></th>\n",
       "      <th></th>\n",
       "      <th></th>\n",
       "      <th></th>\n",
       "      <th></th>\n",
       "      <th></th>\n",
       "      <th></th>\n",
       "      <th></th>\n",
       "      <th></th>\n",
       "      <th></th>\n",
       "      <th></th>\n",
       "      <th></th>\n",
       "      <th></th>\n",
       "    </tr>\n",
       "  </thead>\n",
       "  <tbody>\n",
       "    <tr>\n",
       "      <th>1</th>\n",
       "      <td>9.351416</td>\n",
       "      <td>.jck.;0492372665;0hohj;13steps;13walker;4x sca...</td>\n",
       "      <td>1278</td>\n",
       "      <td>[Die Macher, 德国大选, 디 마허]</td>\n",
       "      <td>[Marcus Gschwendtner:12517, Harald Lieske:4959]</td>\n",
       "      <td>7.62301</td>\n",
       "      <td>7.15698</td>\n",
       "      <td>10</td>\n",
       "      <td>[Economic:1021, Negotiation:1026, Political:1001]</td>\n",
       "      <td>False</td>\n",
       "      <td>...</td>\n",
       "      <td>252.0</td>\n",
       "      <td>1.59774</td>\n",
       "      <td>https://boardgamegeek.com/boardgame/1</td>\n",
       "      <td>[http://www.youtube.com/watch?v=2dBbY-bKVoE, h...</td>\n",
       "      <td>1</td>\n",
       "      <td>1986.0</td>\n",
       "      <td>NaN</td>\n",
       "      <td>NaN</td>\n",
       "      <td>NaN</td>\n",
       "      <td>NaN</td>\n",
       "    </tr>\n",
       "    <tr>\n",
       "      <th>2</th>\n",
       "      <td>9.374468</td>\n",
       "      <td>ahtitan;bard;bigscotty;bradyls;bvesco;calicoda...</td>\n",
       "      <td>47</td>\n",
       "      <td>[Dragonmaster]</td>\n",
       "      <td>[Bob Pepper:12424]</td>\n",
       "      <td>6.61418</td>\n",
       "      <td>5.80881</td>\n",
       "      <td>10</td>\n",
       "      <td>[Card Game:1002, Fantasy:1010]</td>\n",
       "      <td>False</td>\n",
       "      <td>...</td>\n",
       "      <td>3432.0</td>\n",
       "      <td>1.44775</td>\n",
       "      <td>https://boardgamegeek.com/boardgame/2</td>\n",
       "      <td>[http://www.youtube.com/watch?v=sKXnys4wxt8, h...</td>\n",
       "      <td>1</td>\n",
       "      <td>1981.0</td>\n",
       "      <td>[2174]</td>\n",
       "      <td>NaN</td>\n",
       "      <td>NaN</td>\n",
       "      <td>NaN</td>\n",
       "    </tr>\n",
       "    <tr>\n",
       "      <th>3</th>\n",
       "      <td>9.250498</td>\n",
       "      <td>-toni-;-xxx-;1no_momo;47029;57881;8inferno8;a_...</td>\n",
       "      <td>1868</td>\n",
       "      <td>[Samurai, Samouraï, Samurái, Samuraj, Самурай,...</td>\n",
       "      <td>[Franz Vohwinkel:11883]</td>\n",
       "      <td>7.44228</td>\n",
       "      <td>7.24748</td>\n",
       "      <td>10</td>\n",
       "      <td>[Abstract Strategy:1009, Medieval:1035]</td>\n",
       "      <td>False</td>\n",
       "      <td>...</td>\n",
       "      <td>195.0</td>\n",
       "      <td>1.18415</td>\n",
       "      <td>https://boardgamegeek.com/boardgame/3</td>\n",
       "      <td>[http://www.youtube.com/watch?v=yqO-mYfzIdg, h...</td>\n",
       "      <td>1</td>\n",
       "      <td>1998.0</td>\n",
       "      <td>NaN</td>\n",
       "      <td>NaN</td>\n",
       "      <td>NaN</td>\n",
       "      <td>NaN</td>\n",
       "    </tr>\n",
       "    <tr>\n",
       "      <th>4</th>\n",
       "      <td>9.111111</td>\n",
       "      <td>arthemix;bernard;chuft;dix de sabre;gamegrunt;...</td>\n",
       "      <td>18</td>\n",
       "      <td>[Tal der Könige]</td>\n",
       "      <td>[Thomas di Paolo:2277]</td>\n",
       "      <td>6.60612</td>\n",
       "      <td>5.70425</td>\n",
       "      <td>10</td>\n",
       "      <td>[Ancient:1050]</td>\n",
       "      <td>False</td>\n",
       "      <td>...</td>\n",
       "      <td>4489.0</td>\n",
       "      <td>1.22370</td>\n",
       "      <td>https://boardgamegeek.com/boardgame/4</td>\n",
       "      <td>NaN</td>\n",
       "      <td>1</td>\n",
       "      <td>1992.0</td>\n",
       "      <td>NaN</td>\n",
       "      <td>NaN</td>\n",
       "      <td>NaN</td>\n",
       "      <td>NaN</td>\n",
       "    </tr>\n",
       "    <tr>\n",
       "      <th>5</th>\n",
       "      <td>9.344686</td>\n",
       "      <td>1979 amc treo 755p;1no_momo;216stitches;2ndpla...</td>\n",
       "      <td>2560</td>\n",
       "      <td>[Acquire, Cartel, Grand Hôtel, Hotel-Haie, Hot...</td>\n",
       "      <td>[Scott Okumura:12658, Peter Whitley:18317]</td>\n",
       "      <td>7.34589</td>\n",
       "      <td>7.16978</td>\n",
       "      <td>10</td>\n",
       "      <td>[Economic:1021]</td>\n",
       "      <td>False</td>\n",
       "      <td>...</td>\n",
       "      <td>245.0</td>\n",
       "      <td>1.33793</td>\n",
       "      <td>https://boardgamegeek.com/boardgame/5</td>\n",
       "      <td>[http://www.youtube.com/watch?v=dxwp5GqekJU, h...</td>\n",
       "      <td>1</td>\n",
       "      <td>1964.0</td>\n",
       "      <td>NaN</td>\n",
       "      <td>NaN</td>\n",
       "      <td>NaN</td>\n",
       "      <td>NaN</td>\n",
       "    </tr>\n",
       "  </tbody>\n",
       "</table>\n",
       "<p>5 rows × 46 columns</p>\n",
       "</div>"
      ],
      "text/plain": [
       "        bgg_user_rating                                 bgg_user_name_list  \\\n",
       "bgg_id                                                                       \n",
       "1              9.351416  .jck.;0492372665;0hohj;13steps;13walker;4x sca...   \n",
       "2              9.374468  ahtitan;bard;bigscotty;bradyls;bvesco;calicoda...   \n",
       "3              9.250498  -toni-;-xxx-;1no_momo;47029;57881;8inferno8;a_...   \n",
       "4              9.111111  arthemix;bernard;chuft;dix de sabre;gamegrunt;...   \n",
       "5              9.344686  1979 amc treo 755p;1no_momo;216stitches;2ndpla...   \n",
       "\n",
       "        bgg_user_name_num                                           alt_name  \\\n",
       "bgg_id                                                                         \n",
       "1                    1278                           [Die Macher, 德国大选, 디 마허]   \n",
       "2                      47                                     [Dragonmaster]   \n",
       "3                    1868  [Samurai, Samouraï, Samurái, Samuraj, Самурай,...   \n",
       "4                      18                                   [Tal der Könige]   \n",
       "5                    2560  [Acquire, Cartel, Grand Hôtel, Hotel-Haie, Hot...   \n",
       "\n",
       "                                                 artist  avg_rating  \\\n",
       "bgg_id                                                                \n",
       "1       [Marcus Gschwendtner:12517, Harald Lieske:4959]     7.62301   \n",
       "2                                    [Bob Pepper:12424]     6.61418   \n",
       "3                               [Franz Vohwinkel:11883]     7.44228   \n",
       "4                                [Thomas di Paolo:2277]     6.60612   \n",
       "5            [Scott Okumura:12658, Peter Whitley:18317]     7.34589   \n",
       "\n",
       "        bayes_rating  best_rating  \\\n",
       "bgg_id                              \n",
       "1            7.15698           10   \n",
       "2            5.80881           10   \n",
       "3            7.24748           10   \n",
       "4            5.70425           10   \n",
       "5            7.16978           10   \n",
       "\n",
       "                                                 category  compilation  ...  \\\n",
       "bgg_id                                                                  ...   \n",
       "1       [Economic:1021, Negotiation:1026, Political:1001]        False  ...   \n",
       "2                          [Card Game:1002, Fantasy:1010]        False  ...   \n",
       "3                 [Abstract Strategy:1009, Medieval:1035]        False  ...   \n",
       "4                                          [Ancient:1050]        False  ...   \n",
       "5                                         [Economic:1021]        False  ...   \n",
       "\n",
       "          rank  stddev_rating                                    url  \\\n",
       "bgg_id                                                                 \n",
       "1        252.0        1.59774  https://boardgamegeek.com/boardgame/1   \n",
       "2       3432.0        1.44775  https://boardgamegeek.com/boardgame/2   \n",
       "3        195.0        1.18415  https://boardgamegeek.com/boardgame/3   \n",
       "4       4489.0        1.22370  https://boardgamegeek.com/boardgame/4   \n",
       "5        245.0        1.33793  https://boardgamegeek.com/boardgame/5   \n",
       "\n",
       "                                                video_url  worst_rating  \\\n",
       "bgg_id                                                                    \n",
       "1       [http://www.youtube.com/watch?v=2dBbY-bKVoE, h...             1   \n",
       "2       [http://www.youtube.com/watch?v=sKXnys4wxt8, h...             1   \n",
       "3       [http://www.youtube.com/watch?v=yqO-mYfzIdg, h...             1   \n",
       "4                                                     NaN             1   \n",
       "5       [http://www.youtube.com/watch?v=dxwp5GqekJU, h...             1   \n",
       "\n",
       "          year implementation  expansion  integration compilation_of  \n",
       "bgg_id                                                                \n",
       "1       1986.0            NaN        NaN          NaN            NaN  \n",
       "2       1981.0         [2174]        NaN          NaN            NaN  \n",
       "3       1998.0            NaN        NaN          NaN            NaN  \n",
       "4       1992.0            NaN        NaN          NaN            NaN  \n",
       "5       1964.0            NaN        NaN          NaN            NaN  \n",
       "\n",
       "[5 rows x 46 columns]"
      ]
     },
     "execution_count": 9,
     "metadata": {},
     "output_type": "execute_result"
    },
    {
     "data": {
      "application/javascript": [
       "\n",
       "            setTimeout(function() {\n",
       "                var nbb_cell_id = 9;\n",
       "                var nbb_unformatted_code = \"game_data = ratings_by_games.join(games, how=\\\"inner\\\")\\ngame_data.head()\";\n",
       "                var nbb_formatted_code = \"game_data = ratings_by_games.join(games, how=\\\"inner\\\")\\ngame_data.head()\";\n",
       "                var nbb_cells = Jupyter.notebook.get_cells();\n",
       "                for (var i = 0; i < nbb_cells.length; ++i) {\n",
       "                    if (nbb_cells[i].input_prompt_number == nbb_cell_id) {\n",
       "                        if (nbb_cells[i].get_text() == nbb_unformatted_code) {\n",
       "                             nbb_cells[i].set_text(nbb_formatted_code);\n",
       "                        }\n",
       "                        break;\n",
       "                    }\n",
       "                }\n",
       "            }, 500);\n",
       "            "
      ],
      "text/plain": [
       "<IPython.core.display.Javascript object>"
      ]
     },
     "metadata": {},
     "output_type": "display_data"
    }
   ],
   "source": [
    "game_data = ratings_by_games.join(games, how=\"inner\")\n",
    "game_data.head()"
   ]
  },
  {
   "cell_type": "code",
   "execution_count": 10,
   "metadata": {},
   "outputs": [
    {
     "data": {
      "text/plain": [
       "(1001, 46)"
      ]
     },
     "execution_count": 10,
     "metadata": {},
     "output_type": "execute_result"
    },
    {
     "data": {
      "application/javascript": [
       "\n",
       "            setTimeout(function() {\n",
       "                var nbb_cell_id = 10;\n",
       "                var nbb_unformatted_code = \"popular_games = game_data[game_data[\\\"rank\\\"] <= 1000]\\npopular_games.shape\";\n",
       "                var nbb_formatted_code = \"popular_games = game_data[game_data[\\\"rank\\\"] <= 1000]\\npopular_games.shape\";\n",
       "                var nbb_cells = Jupyter.notebook.get_cells();\n",
       "                for (var i = 0; i < nbb_cells.length; ++i) {\n",
       "                    if (nbb_cells[i].input_prompt_number == nbb_cell_id) {\n",
       "                        if (nbb_cells[i].get_text() == nbb_unformatted_code) {\n",
       "                             nbb_cells[i].set_text(nbb_formatted_code);\n",
       "                        }\n",
       "                        break;\n",
       "                    }\n",
       "                }\n",
       "            }, 500);\n",
       "            "
      ],
      "text/plain": [
       "<IPython.core.display.Javascript object>"
      ]
     },
     "metadata": {},
     "output_type": "display_data"
    }
   ],
   "source": [
    "popular_games = game_data[game_data[\"rank\"] <= 1000]\n",
    "popular_games.shape"
   ]
  },
  {
   "cell_type": "code",
   "execution_count": 11,
   "metadata": {},
   "outputs": [
    {
     "data": {
      "text/plain": [
       "(1001, 7674)"
      ]
     },
     "execution_count": 11,
     "metadata": {},
     "output_type": "execute_result"
    },
    {
     "data": {
      "application/javascript": [
       "\n",
       "            setTimeout(function() {\n",
       "                var nbb_cell_id = 11;\n",
       "                var nbb_unformatted_code = \"vectorizer = CountVectorizer(binary=True, min_df=30, token_pattern=r\\\"[^;]+\\\")\\ngames_by_users = vectorizer.fit_transform(popular_games.bgg_user_name_list)\\ngames_by_users.shape\";\n",
       "                var nbb_formatted_code = \"vectorizer = CountVectorizer(binary=True, min_df=30, token_pattern=r\\\"[^;]+\\\")\\ngames_by_users = vectorizer.fit_transform(popular_games.bgg_user_name_list)\\ngames_by_users.shape\";\n",
       "                var nbb_cells = Jupyter.notebook.get_cells();\n",
       "                for (var i = 0; i < nbb_cells.length; ++i) {\n",
       "                    if (nbb_cells[i].input_prompt_number == nbb_cell_id) {\n",
       "                        if (nbb_cells[i].get_text() == nbb_unformatted_code) {\n",
       "                             nbb_cells[i].set_text(nbb_formatted_code);\n",
       "                        }\n",
       "                        break;\n",
       "                    }\n",
       "                }\n",
       "            }, 500);\n",
       "            "
      ],
      "text/plain": [
       "<IPython.core.display.Javascript object>"
      ]
     },
     "metadata": {},
     "output_type": "display_data"
    }
   ],
   "source": [
    "vectorizer = CountVectorizer(binary=True, min_df=30, token_pattern=r\"[^;]+\")\n",
    "games_by_users = vectorizer.fit_transform(popular_games.bgg_user_name_list)\n",
    "games_by_users.shape"
   ]
  },
  {
   "cell_type": "code",
   "execution_count": 12,
   "metadata": {},
   "outputs": [
    {
     "name": "stderr",
     "output_type": "stream",
     "text": [
      "/Users/markus/.local/share/virtualenvs/recommend-games-server-4vo11Vep/lib/python3.7/site-packages/umap/umap_.py:1529: UserWarning: gradient function is not yet implemented for jaccard distance metric; inverse_transform will be unavailable\n",
      "  \"inverse_transform will be unavailable\".format(self.metric)\n"
     ]
    },
    {
     "data": {
      "text/plain": [
       "UMAP(a=None, angular_rp_forest=True, b=None,\n",
       "     force_approximation_algorithm=False, init='spectral', learning_rate=1.0,\n",
       "     local_connectivity=1.0, low_memory=False, metric='jaccard',\n",
       "     metric_kwds=None, min_dist=0.1, n_components=2, n_epochs=None,\n",
       "     n_neighbors=20, negative_sample_rate=5, output_metric='euclidean',\n",
       "     output_metric_kwds=None, random_state=None, repulsion_strength=1.0,\n",
       "     set_op_mix_ratio=1.0, spread=1.0, target_metric='categorical',\n",
       "     target_metric_kwds=None, target_n_neighbors=-1, target_weight=0.5,\n",
       "     transform_queue_size=4.0, transform_seed=42, unique=True, verbose=False)"
      ]
     },
     "execution_count": 12,
     "metadata": {},
     "output_type": "execute_result"
    },
    {
     "data": {
      "application/javascript": [
       "\n",
       "            setTimeout(function() {\n",
       "                var nbb_cell_id = 12;\n",
       "                var nbb_unformatted_code = \"games_by_users_model = umap.UMAP(\\n    n_neighbors=20, n_components=2, metric=\\\"jaccard\\\", unique=True\\n)\\ngames_by_users_model.fit(games_by_users.todense())\";\n",
       "                var nbb_formatted_code = \"games_by_users_model = umap.UMAP(\\n    n_neighbors=20, n_components=2, metric=\\\"jaccard\\\", unique=True\\n)\\ngames_by_users_model.fit(games_by_users.todense())\";\n",
       "                var nbb_cells = Jupyter.notebook.get_cells();\n",
       "                for (var i = 0; i < nbb_cells.length; ++i) {\n",
       "                    if (nbb_cells[i].input_prompt_number == nbb_cell_id) {\n",
       "                        if (nbb_cells[i].get_text() == nbb_unformatted_code) {\n",
       "                             nbb_cells[i].set_text(nbb_formatted_code);\n",
       "                        }\n",
       "                        break;\n",
       "                    }\n",
       "                }\n",
       "            }, 500);\n",
       "            "
      ],
      "text/plain": [
       "<IPython.core.display.Javascript object>"
      ]
     },
     "metadata": {},
     "output_type": "display_data"
    }
   ],
   "source": [
    "games_by_users_model = umap.UMAP(\n",
    "    n_neighbors=20, n_components=2, metric=\"jaccard\", unique=True\n",
    ")\n",
    "games_by_users_model.fit(games_by_users.todense())"
   ]
  },
  {
   "cell_type": "code",
   "execution_count": 13,
   "metadata": {},
   "outputs": [
    {
     "data": {
      "text/plain": [
       "<matplotlib.axes._subplots.AxesSubplot at 0x2b1583bd0>"
      ]
     },
     "execution_count": 13,
     "metadata": {},
     "output_type": "execute_result"
    },
    {
     "data": {
      "image/png": "[encoded data removed]",
      "text/plain": [
       "<Figure size 800x800 with 1 Axes>"
      ]
     },
     "metadata": {},
     "output_type": "display_data"
    },
    {
     "data": {
      "application/javascript": [
       "\n",
       "            setTimeout(function() {\n",
       "                var nbb_cell_id = 13;\n",
       "                var nbb_unformatted_code = \"umap.plot.points(games_by_users_model, values=popular_games[\\\"rank\\\"], theme=\\\"fire\\\")\";\n",
       "                var nbb_formatted_code = \"umap.plot.points(games_by_users_model, values=popular_games[\\\"rank\\\"], theme=\\\"fire\\\")\";\n",
       "                var nbb_cells = Jupyter.notebook.get_cells();\n",
       "                for (var i = 0; i < nbb_cells.length; ++i) {\n",
       "                    if (nbb_cells[i].input_prompt_number == nbb_cell_id) {\n",
       "                        if (nbb_cells[i].get_text() == nbb_unformatted_code) {\n",
       "                             nbb_cells[i].set_text(nbb_formatted_code);\n",
       "                        }\n",
       "                        break;\n",
       "                    }\n",
       "                }\n",
       "            }, 500);\n",
       "            "
      ],
      "text/plain": [
       "<IPython.core.display.Javascript object>"
      ]
     },
     "metadata": {},
     "output_type": "display_data"
    }
   ],
   "source": [
    "umap.plot.points(games_by_users_model, values=popular_games[\"rank\"], theme=\"fire\")"
   ]
  },
  {
   "cell_type": "code",
   "execution_count": 15,
   "metadata": {},
   "outputs": [
    {
     "data": {
      "application/javascript": [
       "\n",
       "            setTimeout(function() {\n",
       "                var nbb_cell_id = 15;\n",
       "                var nbb_unformatted_code = \"hover_data = popular_games[[\\\"name\\\", \\\"rank\\\", \\\"bayes_rating\\\"]]\\ngame_plot = umap.plot.interactive(\\n    games_by_users_model,\\n    values=hover_data[\\\"rank\\\"],\\n    hover_data=hover_data,\\n    theme=\\\"fire\\\",\\n    point_size=5,\\n)\\nshow(game_plot)\";\n",
       "                var nbb_formatted_code = \"hover_data = popular_games[[\\\"name\\\", \\\"rank\\\", \\\"bayes_rating\\\"]]\\ngame_plot = umap.plot.interactive(\\n    games_by_users_model,\\n    values=hover_data[\\\"rank\\\"],\\n    hover_data=hover_data,\\n    theme=\\\"fire\\\",\\n    point_size=5,\\n)\\nshow(game_plot)\";\n",
       "                var nbb_cells = Jupyter.notebook.get_cells();\n",
       "                for (var i = 0; i < nbb_cells.length; ++i) {\n",
       "                    if (nbb_cells[i].input_prompt_number == nbb_cell_id) {\n",
       "                        if (nbb_cells[i].get_text() == nbb_unformatted_code) {\n",
       "                             nbb_cells[i].set_text(nbb_formatted_code);\n",
       "                        }\n",
       "                        break;\n",
       "                    }\n",
       "                }\n",
       "            }, 500);\n",
       "            "
      ],
      "text/plain": [
       "<IPython.core.display.Javascript object>"
      ]
     },
     "metadata": {},
     "output_type": "display_data"
    }
   ],
   "source": [
    "hover_data = popular_games[[\"name\", \"rank\", \"bayes_rating\"]]\n",
    "game_plot = umap.plot.interactive(\n",
    "    games_by_users_model,\n",
    "    values=hover_data[\"rank\"],\n",
    "    hover_data=hover_data,\n",
    "    theme=\"fire\",\n",
    "    point_size=5,\n",
    ")\n",
    "show(game_plot)"
   ]
  },
  {
   "cell_type": "code",
   "execution_count": 14,
   "metadata": {},
   "outputs": [
    {
     "data": {
      "text/plain": [
       "(5950, 47)"
      ]
     },
     "execution_count": 14,
     "metadata": {},
     "output_type": "execute_result"
    },
    {
     "data": {
      "application/javascript": [
       "\n",
       "            setTimeout(function() {\n",
       "                var nbb_cell_id = 14;\n",
       "                var nbb_unformatted_code = \"popular_games.shape\";\n",
       "                var nbb_formatted_code = \"popular_games.shape\";\n",
       "                var nbb_cells = Jupyter.notebook.get_cells();\n",
       "                for (var i = 0; i < nbb_cells.length; ++i) {\n",
       "                    if (nbb_cells[i].input_prompt_number == nbb_cell_id) {\n",
       "                        if (nbb_cells[i].get_text() == nbb_unformatted_code) {\n",
       "                             nbb_cells[i].set_text(nbb_formatted_code);\n",
       "                        }\n",
       "                        break;\n",
       "                    }\n",
       "                }\n",
       "            }, 500);\n",
       "            "
      ],
      "text/plain": [
       "<IPython.core.display.Javascript object>"
      ]
     },
     "metadata": {},
     "output_type": "display_data"
    }
   ],
   "source": [
    "popular_games.shape"
   ]
  },
  {
   "cell_type": "code",
   "execution_count": 15,
   "metadata": {},
   "outputs": [
    {
     "data": {
      "text/plain": [
       "(5950, 5950)"
      ]
     },
     "execution_count": 15,
     "metadata": {},
     "output_type": "execute_result"
    },
    {
     "data": {
      "application/javascript": [
       "\n",
       "            setTimeout(function() {\n",
       "                var nbb_cell_id = 15;\n",
       "                var nbb_unformatted_code = \"games_by_users_model.graph_.shape\";\n",
       "                var nbb_formatted_code = \"games_by_users_model.graph_.shape\";\n",
       "                var nbb_cells = Jupyter.notebook.get_cells();\n",
       "                for (var i = 0; i < nbb_cells.length; ++i) {\n",
       "                    if (nbb_cells[i].input_prompt_number == nbb_cell_id) {\n",
       "                        if (nbb_cells[i].get_text() == nbb_unformatted_code) {\n",
       "                             nbb_cells[i].set_text(nbb_formatted_code);\n",
       "                        }\n",
       "                        break;\n",
       "                    }\n",
       "                }\n",
       "            }, 500);\n",
       "            "
      ],
      "text/plain": [
       "<IPython.core.display.Javascript object>"
      ]
     },
     "metadata": {},
     "output_type": "display_data"
    }
   ],
   "source": [
    "games_by_users_model.graph_.shape"
   ]
  },
  {
   "cell_type": "code",
   "execution_count": null,
   "metadata": {},
   "outputs": [],
   "source": []
  }
 ],
 "metadata": {
  "kernelspec": {
   "display_name": "Python 3",
   "language": "python",
   "name": "python3"
  },
  "language_info": {
   "codemirror_mode": {
    "name": "ipython",
    "version": 3
   },
   "file_extension": ".py",
   "mimetype": "text/x-python",
   "name": "python",
   "nbconvert_exporter": "python",
   "pygments_lexer": "ipython3",
   "version": "3.7.6"
  }
 },
 "nbformat": 4,
 "nbformat_minor": 4
}
